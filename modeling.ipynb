{
 "cells": [
  {
   "cell_type": "code",
   "execution_count": 1,
   "id": "5e1c9a44",
   "metadata": {},
   "outputs": [],
   "source": [
    "from imports import *\n",
    "\n",
    "# set columnns display format\n",
    "pd.set_option('display.max_columns', None)\n",
    "# default pandas decimal number display format\n",
    "# pd.options.display.float_format = '{:20,.3f}'.format"
   ]
  },
  {
   "cell_type": "code",
   "execution_count": 2,
   "id": "1a63d119",
   "metadata": {},
   "outputs": [],
   "source": [
    "# import raw, messy data\n",
    "df = acquire.get_zillow_data()"
   ]
  },
  {
   "cell_type": "code",
   "execution_count": 3,
   "id": "e5667626",
   "metadata": {},
   "outputs": [],
   "source": [
    "# clean data\n",
    "df = prepare.prep_zillow(df)"
   ]
  },
  {
   "cell_type": "code",
   "execution_count": 4,
   "id": "244be38c",
   "metadata": {},
   "outputs": [],
   "source": [
    "# scale and split the data\n",
    "train, validate, test = prepare.split_scale(df)"
   ]
  },
  {
   "cell_type": "code",
   "execution_count": 9,
   "id": "7c2ca757",
   "metadata": {},
   "outputs": [],
   "source": [
    "# adding location clusters to dataframe\n",
    "cols = ['county_Los Angeles', 'county_Orange', 'zip_code']\n",
    "kmeans = KMeans(n_clusters=4)\n",
    "kmeans.fit(train[cols])\n",
    "\n",
    "train['location_clusters'] = kmeans.predict(train[cols])\n",
    "validate['location_clusters'] = kmeans.predict(validate[cols])\n",
    "test['location_clusters'] = kmeans.predict(test[cols])"
   ]
  },
  {
   "cell_type": "code",
   "execution_count": 11,
   "id": "71969198",
   "metadata": {},
   "outputs": [],
   "source": [
    "# adding area clusters to dataframe - somewhat significant\n",
    "\n",
    "cols =['total_sqft', 'lot_sqft', 'living_sqft']\n",
    "kmeans = KMeans(n_clusters=3)\n",
    "kmeans.fit(train[cols])\n",
    "\n",
    "train['area_clusters'] = kmeans.predict(train[cols])\n",
    "validate['area_clusters'] = kmeans.predict(validate[cols])\n",
    "test['area_clusters'] = kmeans.predict(test[cols])"
   ]
  },
  {
   "cell_type": "code",
   "execution_count": 12,
   "id": "31de5f1f",
   "metadata": {},
   "outputs": [],
   "source": [
    "# adding size clusters to dataframe - not significant\n",
    "\n",
    "cols = ['bedrooms', 'bathrooms', 'full_bath']\n",
    "kmeans = KMeans(n_clusters=3)\n",
    "kmeans.fit(train[cols])\n",
    "train['size_clusters'] = kmeans.predict(train[cols])\n",
    "validate['size_clusters'] = kmeans.predict(validate[cols])\n",
    "test['size_clusters'] = kmeans.predict(test[cols])"
   ]
  },
  {
   "cell_type": "code",
   "execution_count": null,
   "id": "d4f80407",
   "metadata": {},
   "outputs": [],
   "source": [
    "# adding value clusters to dataframe - not significant\n",
    "\n",
    "cols = ['structure_value', 'assessed_value', 'land_value','taxamount']\n",
    "kmeans = KMeans(n_clusters=3)\n",
    "kmeans.fit(train[cols])\n",
    "train['value_clusters'] = kmeans.predict(train[cols])\n",
    "validate['value_clusters'] = kmeans.predict(validate[cols])\n",
    "test['value_clusters'] = kmeans.predict(test[cols])"
   ]
  }
 ],
 "metadata": {
  "kernelspec": {
   "display_name": "Python 3 (ipykernel)",
   "language": "python",
   "name": "python3"
  },
  "language_info": {
   "codemirror_mode": {
    "name": "ipython",
    "version": 3
   },
   "file_extension": ".py",
   "mimetype": "text/x-python",
   "name": "python",
   "nbconvert_exporter": "python",
   "pygments_lexer": "ipython3",
   "version": "3.9.12"
  }
 },
 "nbformat": 4,
 "nbformat_minor": 5
}
