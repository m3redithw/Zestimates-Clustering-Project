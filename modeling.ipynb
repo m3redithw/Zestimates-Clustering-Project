{
 "cells": [
  {
   "cell_type": "code",
   "execution_count": 1,
   "id": "4e6ac65f",
   "metadata": {},
   "outputs": [],
   "source": [
    "from imports import *\n",
    "\n",
    "# set columnns display format\n",
    "pd.set_option('display.max_columns', None)\n",
    "# default pandas decimal number display format\n",
    "# pd.options.display.float_format = '{:20,.3f}'.format"
   ]
  },
  {
   "cell_type": "code",
   "execution_count": 2,
   "id": "3e000e06",
   "metadata": {},
   "outputs": [],
   "source": [
    "# import raw, messy data\n",
    "df = acquire.get_zillow_data()"
   ]
  },
  {
   "cell_type": "code",
   "execution_count": 3,
   "id": "c5f5229d",
   "metadata": {},
   "outputs": [],
   "source": [
    "# clean data\n",
    "df = prepare.prep_zillow(df)"
   ]
  },
  {
   "cell_type": "code",
   "execution_count": 4,
   "id": "01f870ac",
   "metadata": {},
   "outputs": [],
   "source": [
    "# scale and split the data\n",
    "train, validate, test = prepare.split_scale(df)"
   ]
  },
  {
   "cell_type": "code",
   "execution_count": 5,
   "id": "e5eb16e1",
   "metadata": {},
   "outputs": [],
   "source": [
    "# adding location clusters A to dataframe\n",
    "cols = ['latitude', 'longitude', 'zip_bin_insgfnt high', 'zip_bin_insgfnt low',\n",
    "       'zip_bin_sgfnt high']\n",
    "kmeans = KMeans(n_clusters=4)\n",
    "kmeans.fit(train[cols])\n",
    "\n",
    "train['location_clusters_a'] = kmeans.predict(train[cols])\n",
    "validate['location_clusters_a'] = kmeans.predict(validate[cols])\n",
    "test['location_clusters_a'] = kmeans.predict(test[cols])"
   ]
  },
  {
   "cell_type": "code",
   "execution_count": 6,
   "id": "9baa3970",
   "metadata": {},
   "outputs": [],
   "source": [
    "# adding location clusters B to dataframe\n",
    "cols = ['county_Los Angeles', 'county_Orange', 'zip_bin_insgfnt high', 'zip_bin_insgfnt low',\n",
    "       'zip_bin_sgfnt high']\n",
    "kmeans = KMeans(n_clusters=5)\n",
    "kmeans.fit(train[cols])\n",
    "\n",
    "train['location_clusters_b'] = kmeans.predict(train[cols])\n",
    "validate['location_clusters_b'] = kmeans.predict(validate[cols])\n",
    "test['location_clusters_b'] = kmeans.predict(test[cols])"
   ]
  },
  {
   "cell_type": "code",
   "execution_count": 7,
   "id": "ed2354d3",
   "metadata": {},
   "outputs": [],
   "source": [
    "# adding area clusters to dataframe - somewhat significant\n",
    "\n",
    "cols =['total_sqft', 'lot_sqft', 'living_sqft']\n",
    "kmeans = KMeans(n_clusters=3)\n",
    "kmeans.fit(train[cols])\n",
    "\n",
    "train['area_clusters'] = kmeans.predict(train[cols])\n",
    "validate['area_clusters'] = kmeans.predict(validate[cols])\n",
    "test['area_clusters'] = kmeans.predict(test[cols])"
   ]
  },
  {
   "cell_type": "code",
   "execution_count": 8,
   "id": "7b473ef6",
   "metadata": {},
   "outputs": [],
   "source": [
    "# adding size clusters A to dataframe - not significant\n",
    "\n",
    "cols = ['bedrooms', 'bathrooms', 'full_bath']\n",
    "kmeans = KMeans(n_clusters=3)\n",
    "kmeans.fit(train[cols])\n",
    "train['size_clusters_a'] = kmeans.predict(train[cols])\n",
    "validate['size_clusters_a'] = kmeans.predict(validate[cols])\n",
    "test['size_clusters_a'] = kmeans.predict(test[cols])"
   ]
  },
  {
   "cell_type": "code",
   "execution_count": 9,
   "id": "6dd12dd1",
   "metadata": {},
   "outputs": [],
   "source": [
    "# adding size clusters B to dataframe - not significant\n",
    "\n",
    "cols = ['bedrooms', 'bathrooms', 'full_bath', 'roomcnt']\n",
    "kmeans = KMeans(n_clusters=4)\n",
    "kmeans.fit(train[cols])\n",
    "train['size_clusters_b'] = kmeans.predict(train[cols])\n",
    "validate['size_clusters_b'] = kmeans.predict(validate[cols])\n",
    "test['size_clusters_b'] = kmeans.predict(test[cols])"
   ]
  },
  {
   "cell_type": "code",
   "execution_count": 10,
   "id": "c10dc386",
   "metadata": {},
   "outputs": [],
   "source": [
    "# adding size clusters B to dataframe - not significant\n",
    "\n",
    "cols = ['bedrooms', 'bathrooms', 'full_bath', 'roomcnt']\n",
    "kmeans = KMeans(n_clusters=5)\n",
    "kmeans.fit(train[cols])\n",
    "train['size_clusters_c'] = kmeans.predict(train[cols])\n",
    "validate['size_clusters_c'] = kmeans.predict(validate[cols])\n",
    "test['size_clusters_c'] = kmeans.predict(test[cols])"
   ]
  },
  {
   "cell_type": "code",
   "execution_count": 12,
   "id": "c603ca05",
   "metadata": {},
   "outputs": [],
   "source": [
    "# adding value clusters to dataframe - not significant\n",
    "\n",
    "cols = ['structure_value', 'assessed_value', 'land_value','taxamount']\n",
    "kmeans = KMeans(n_clusters=3)\n",
    "kmeans.fit(train[cols])\n",
    "train['value_clusters'] = kmeans.predict(train[cols])\n",
    "validate['value_clusters'] = kmeans.predict(validate[cols])\n",
    "test['value_clusters'] = kmeans.predict(test[cols])"
   ]
  },
  {
   "cell_type": "markdown",
   "id": "5326807d",
   "metadata": {},
   "source": [
    "**Baseline (0.16262411066536314, 0.15806831374792724)**\n",
    "### ['age', 'location_clusters_a', 'area_clusters','size_clusters_a','value_clusters','transaction_month']\n",
    "    \n",
    "    **Polynomial k=2**\n",
    "    (0.16163094482814297, 0.1576410238958071)\n",
    "    \n",
    "    **Polynomial k=3**\n",
    "    (0.16097933947491191, 0.15775996884892424)\n",
    "    \n",
    "    **Lasso-Lars**\n",
    "    (0.16262411066536314, 0.1580787480680725)\n",
    "    \n",
    "### ['age', 'location_clusters_a', 'total_sqft','lot_sqft','size_clusters_a','value_clusters','transaction_month']\n",
    "\n",
    "    **Multiple Regression**\n",
    "    Train:\n",
    "    (multiple_rfe_k=, 5)    0.162492\n",
    "    (multiple_rfe_k=, 4)    0.162492\n",
    "    (multiple_rfe_k=, 3)    0.162492\n",
    "    (multiple_rfe_k=, 2)    0.162497\n",
    "    baseline                0.162624\n",
    "    \n",
    "    Validate:\n",
    "    actual                  0.000000\n",
    "    (multiple_rfe_k=, 2)    0.157849\n",
    "    (multiple_rfe_k=, 3)    0.157860\n",
    "    (multiple_rfe_k=, 5)    0.157861\n",
    "    (multiple_rfe_k=, 4)    0.157861\n",
    "    basline                 0.158068\n",
    "    \n",
    "    **Polynomial k==2**\n",
    "    (0.1615744049461564, 0.157551464177825)\n",
    "    \n",
    "    **Polynomial k==3**\n",
    "    (0.16076128853719324, 0.15804733196158555)\n",
    "    \n",
    "    **Polynomial k==4**\n",
    "    (0.15985183145896883, 0.1589364765615364)\n",
    "    \n",
    "    **Lasso-Lars**\n",
    "    (0.16262411066536314, 0.1580787480680725)\n",
    "\n",
    "### ['age', 'location_clusters_a', 'total_sqft','lot_sqft','bedrooms', 'bathrooms', 'structure_value', 'taxamount', 'transaction_month'] (so far the best)\n",
    "\n",
    "    **Multiple Regression**\n",
    "    train\n",
    "    actual                  0.000000\n",
    "    (multiple_rfe_k=, 5)    0.162424\n",
    "    (multiple_rfe_k=, 4)    0.162429\n",
    "    (multiple_rfe_k=, 3)    0.162437\n",
    "    (multiple_rfe_k=, 2)    0.162445\n",
    "    baseline                0.162624\n",
    "    dtype: float64\n",
    "    \n",
    "    validate\n",
    "    actual                  0.000000\n",
    "    (multiple_rfe_k=, 4)    0.157832\n",
    "    (multiple_rfe_k=, 5)    0.157835\n",
    "    (multiple_rfe_k=, 3)    0.157858\n",
    "    (multiple_rfe_k=, 2)    0.157899\n",
    "    basline                 0.158068\n",
    "    \n",
    "    **Polynomial k==2**\n",
    "    (0.16193444802499085, 0.15791020478468537)\n",
    "    \n",
    "    **Polynomial k==3**\n",
    "    (0.16034106096536133, 0.15841242090224136)\n",
    "    \n",
    "    **Polynomial k==4**\n",
    "    (0.15783103412665095, 0.16225076345255657)\n",
    "    \n",
    "    **Lasso-Lars**\n",
    "    (0.16262411066536314, 0.1580787480680725)\n",
    "\n",
    "### ['age', 'location_clusters_a', 'total_sqft','lot_sqft','bedrooms', 'bathrooms', 'assessed_value', 'transaction_month']     \n",
    "    **Multiple Regression**\n",
    "    train\n",
    "    (multiple_rfe_k=, 7)    0.162437\n",
    "    (multiple_rfe_k=, 6)    0.162437\n",
    "    (multiple_rfe_k=, 5)    0.162437\n",
    "    (multiple_rfe_k=, 4)    0.162473\n",
    "    (multiple_rfe_k=, 3)    0.162476\n",
    "    (multiple_rfe_k=, 2)    0.162485\n",
    "    baseline                0.162624\n",
    "    \n",
    "    validate\n",
    "    (multiple_rfe_k=, 6)    0.157802\n",
    "    (multiple_rfe_k=, 5)    0.157802 (BEST)\n",
    "    (multiple_rfe_k=, 7)    0.157803\n",
    "    (multiple_rfe_k=, 3)    0.157810\n",
    "    (multiple_rfe_k=, 4)    0.157824\n",
    "    (multiple_rfe_k=, 2)    0.157838\n",
    "    basline                 0.158068\n",
    "    \n",
    "    test\n",
    "    (multiple_rfe_k=, 5)    0.178209\n",
    "    (multiple_rfe_k=, 6)    0.178212\n",
    "    (multiple_rfe_k=, 7)    0.178215\n",
    "    (multiple_rfe_k=, 2)    0.178259\n",
    "    (multiple_rfe_k=, 3)    0.178277\n",
    "    (multiple_rfe_k=, 4)    0.178300\n",
    "    baseline                0.178470\n",
    "    \n",
    "    **Polynomial k==2**\n",
    "    (0.16203319866214794, 0.1579216043237988, 0.17808454115804495)\n",
    "    \n",
    "    **Polynomial k==3** (BEST)\n",
    "    (0.16067604278745912, 0.1580339094144225, 0.17804316255180633)\n",
    "    \n",
    "    **Polynomial k==4**\n",
    "    (0.15896990568372965, 0.15947280347014609, 0.17988356411859527)\n",
    "    \n",
    "    **Lasso-Lars**\n",
    "    (0.16262411066536314, 0.1580787480680725, 0.1784697030682737)\n",
    "### ['age', 'location_clusters_a', 'total_sqft','lot_sqft','bedrooms', 'bathrooms', 'assessed_value', 'transaction_month', 'taxamont','structure_value']\n",
    "    train\n",
    "    (multiple_rfe_k=, 7)    0.162371\n",
    "    (multiple_rfe_k=, 6)    0.162422\n",
    "    (multiple_rfe_k=, 5)    0.162424\n",
    "    (multiple_rfe_k=, 4)    0.162429\n",
    "    (multiple_rfe_k=, 3)    0.162437\n",
    "    (multiple_rfe_k=, 2)    0.162445\n",
    "    baseline                0.162624\n",
    "\n",
    "    validate\n",
    "    (multiple_rfe_k=, 7)    0.157723\n",
    "    (multiple_rfe_k=, 4)    0.157832\n",
    "    (multiple_rfe_k=, 5)    0.157835\n",
    "    (multiple_rfe_k=, 6)    0.157847\n",
    "    (multiple_rfe_k=, 3)    0.157858\n",
    "    (multiple_rfe_k=, 2)    0.157899\n",
    "    basline                 0.158068\n",
    "    \n",
    "    **Polynomial k==2**\n",
    "    (0.1614167621999337, 0.15748744020617358)\n",
    "    \n",
    "    **Polynomial k==3**\n",
    "    (0.16034106096536133, 0.15841242090224136)\n",
    "    \n",
    "    **Polynomial k==4**\n",
    "    (0.15621698516821467, 0.18506796501670858)\n",
    "    \n",
    "    **Lasso-Lars**\n",
    "    (0.16262411066536314, 0.1580787480680725)"
   ]
  },
  {
   "cell_type": "code",
   "execution_count": 37,
   "id": "0aa309d1",
   "metadata": {},
   "outputs": [],
   "source": [
    "# set x and y\n",
    "cols = ['age', 'location_clusters_a', 'total_sqft','lot_sqft','bedrooms', 'bathrooms', 'assessed_value', 'transaction_month']\n",
    "X_train = train[cols]\n",
    "y_train = train.logerror\n",
    "\n",
    "X_validate = validate[cols]\n",
    "y_validate = validate.logerror\n",
    "\n",
    "X_test = test[cols]\n",
    "y_test = test.logerror"
   ]
  },
  {
   "cell_type": "markdown",
   "id": "bd343c23",
   "metadata": {},
   "source": [
    "## Multiple  Regression + RFE"
   ]
  },
  {
   "cell_type": "code",
   "execution_count": 38,
   "id": "51245f32",
   "metadata": {},
   "outputs": [
    {
     "name": "stdout",
     "output_type": "stream",
     "text": [
      "selected top 6 features: Index(['location_clusters_a', 'total_sqft', 'lot_sqft', 'bedrooms',\n",
      "       'bathrooms', 'assessed_value'],\n",
      "      dtype='object')\n"
     ]
    }
   ],
   "source": [
    "from sklearn.linear_model import LinearRegression\n",
    "lm = LinearRegression()\n",
    "\n",
    "# 1. Transform our X\n",
    "rfe = RFE(lm, n_features_to_select=6)\n",
    "rfe.fit(X_train, y_train)\n",
    "print('selected top 6 features:', X_train.columns[rfe.support_])\n",
    "X_train_rfe = rfe.transform(X_train)"
   ]
  },
  {
   "cell_type": "code",
   "execution_count": 39,
   "id": "8c192899",
   "metadata": {},
   "outputs": [],
   "source": [
    "train_predictions = pd.DataFrame({\n",
    "    'actual': train.logerror\n",
    "}) \n",
    "validate_predictions = pd.DataFrame({\n",
    "    'actual': validate.logerror\n",
    "})\n",
    "test_predictions = pd.DataFrame({\n",
    "    'actual': test.logerror\n",
    "})"
   ]
  },
  {
   "cell_type": "code",
   "execution_count": 41,
   "id": "1fbcd91d",
   "metadata": {},
   "outputs": [],
   "source": [
    "train_predictions['baseline'] = y_train.mean()\n",
    "validate_predictions['basline']=y_validate.mean()\n",
    "test_predictions['baseline']=y_test.mean()"
   ]
  },
  {
   "cell_type": "code",
   "execution_count": 42,
   "id": "1a96248e",
   "metadata": {},
   "outputs": [],
   "source": [
    "for k in range(2,8):\n",
    "    lm = LinearRegression()\n",
    "    # 1. Transform our X\n",
    "    rfe = RFE(lm, n_features_to_select=k)\n",
    "    rfe.fit(X_train, y_train)\n",
    "    # 2. Use the transformed x in our model\n",
    "    X_train_rfe = rfe.transform(X_train)\n",
    "    X_validate_rfe = rfe.transform(X_validate)\n",
    "    X_test_rfe = rfe.transform(X_test)\n",
    "    lm.fit(X_train_rfe, y_train)\n",
    "    \n",
    "    # Make predictions\n",
    "    train_predictions['multiple_rfe_k=', k] = lm.predict(X_train_rfe)\n",
    "    validate_predictions['multiple_rfe_k=', k] = lm.predict(X_validate_rfe)\n",
    "    test_predictions['multiple_rfe_k=', k] = lm.predict(X_test_rfe)\n",
    "    k+=1"
   ]
  },
  {
   "cell_type": "code",
   "execution_count": 43,
   "id": "42b5928a",
   "metadata": {},
   "outputs": [
    {
     "data": {
      "text/plain": [
       "actual                  0.000000\n",
       "(multiple_rfe_k=, 7)    0.162437\n",
       "(multiple_rfe_k=, 6)    0.162437\n",
       "(multiple_rfe_k=, 5)    0.162437\n",
       "(multiple_rfe_k=, 4)    0.162473\n",
       "(multiple_rfe_k=, 3)    0.162476\n",
       "(multiple_rfe_k=, 2)    0.162485\n",
       "baseline                0.162624\n",
       "dtype: float64"
      ]
     },
     "execution_count": 43,
     "metadata": {},
     "output_type": "execute_result"
    }
   ],
   "source": [
    "def calculate_rmse(y_predicted):\n",
    "    return mean_squared_error(train_predictions.actual, y_predicted, squared = False)\n",
    "\n",
    "train_predictions.apply(calculate_rmse).sort_values()"
   ]
  },
  {
   "cell_type": "code",
   "execution_count": 44,
   "id": "af05818c",
   "metadata": {},
   "outputs": [
    {
     "data": {
      "text/plain": [
       "actual                  0.000000\n",
       "(multiple_rfe_k=, 6)    0.157802\n",
       "(multiple_rfe_k=, 5)    0.157802\n",
       "(multiple_rfe_k=, 7)    0.157803\n",
       "(multiple_rfe_k=, 3)    0.157810\n",
       "(multiple_rfe_k=, 4)    0.157824\n",
       "(multiple_rfe_k=, 2)    0.157838\n",
       "basline                 0.158068\n",
       "dtype: float64"
      ]
     },
     "execution_count": 44,
     "metadata": {},
     "output_type": "execute_result"
    }
   ],
   "source": [
    "def calculate_rmse(y_predicted):\n",
    "    return mean_squared_error(validate_predictions.actual, y_predicted, squared = False)\n",
    "\n",
    "validate_predictions.apply(calculate_rmse).sort_values()"
   ]
  },
  {
   "cell_type": "code",
   "execution_count": 45,
   "id": "d42c5326",
   "metadata": {},
   "outputs": [
    {
     "data": {
      "text/plain": [
       "actual                  0.000000\n",
       "(multiple_rfe_k=, 5)    0.178209\n",
       "(multiple_rfe_k=, 6)    0.178212\n",
       "(multiple_rfe_k=, 7)    0.178215\n",
       "(multiple_rfe_k=, 2)    0.178259\n",
       "(multiple_rfe_k=, 3)    0.178277\n",
       "(multiple_rfe_k=, 4)    0.178300\n",
       "baseline                0.178470\n",
       "dtype: float64"
      ]
     },
     "execution_count": 45,
     "metadata": {},
     "output_type": "execute_result"
    }
   ],
   "source": [
    "def calculate_rmse(y_predicted):\n",
    "    return mean_squared_error(test_predictions.actual, y_predicted, squared = False)\n",
    "\n",
    "test_predictions.apply(calculate_rmse).sort_values()"
   ]
  },
  {
   "cell_type": "markdown",
   "id": "a4cf5fea",
   "metadata": {},
   "source": [
    "## Polynomial Features"
   ]
  },
  {
   "cell_type": "code",
   "execution_count": 46,
   "id": "5f251469",
   "metadata": {},
   "outputs": [],
   "source": [
    "train_pred = pd.DataFrame({\n",
    "    'actual': train.logerror\n",
    "}) \n",
    "validate_pred = pd.DataFrame({\n",
    "    'actual': validate.logerror\n",
    "})\n",
    "test_pred = pd.DataFrame({\n",
    "    'actual': test.logerror\n",
    "})\n",
    "train_pred['baseline'] = y_train.mean()\n",
    "validate_pred['basline']=y_validate.mean()\n",
    "test_pred['basline']=y_test.mean()"
   ]
  },
  {
   "cell_type": "code",
   "execution_count": 47,
   "id": "79100059",
   "metadata": {},
   "outputs": [],
   "source": [
    "from sklearn.preprocessing import PolynomialFeatures\n",
    "\n",
    "# 1. Generate Polynomial Features, k=2\n",
    "poly = PolynomialFeatures(degree=2, include_bias=False, interaction_only=False)\n",
    "poly.fit(X_train)\n",
    "X_train_poly = pd.DataFrame(\n",
    "    poly.transform(X_train),\n",
    "    columns=poly.get_feature_names(X_train.columns),\n",
    "    index=X_train.index,\n",
    ")"
   ]
  },
  {
   "cell_type": "code",
   "execution_count": 48,
   "id": "3ce11444",
   "metadata": {},
   "outputs": [],
   "source": [
    "lm = LinearRegression()\n",
    "lm.fit(X_train_poly, y_train)\n",
    "X_validate_poly = poly.transform(X_validate)\n",
    "X_test_poly = poly.transform(X_test)\n",
    "train_pred['polynomial degree 2'] = lm.predict(X_train_poly)\n",
    "validate_pred['polynomial degree 2'] = lm.predict(X_validate_poly)\n",
    "test_pred['polynomial degree 2'] = lm.predict(X_test_poly)"
   ]
  },
  {
   "cell_type": "code",
   "execution_count": 49,
   "id": "2a13768b",
   "metadata": {},
   "outputs": [
    {
     "data": {
      "text/plain": [
       "(0.16203319866214794, 0.1579216043237988, 0.17808454115804495)"
      ]
     },
     "execution_count": 49,
     "metadata": {},
     "output_type": "execute_result"
    }
   ],
   "source": [
    "train_rmse = mean_squared_error(train_pred.actual,train_pred['polynomial degree 2'], squared = False)\n",
    "validate_rmse = mean_squared_error(validate_pred.actual,validate_pred['polynomial degree 2'], squared = False)\n",
    "test_rmse = mean_squared_error(test_pred.actual,test_pred['polynomial degree 2'], squared = False)\n",
    "train_rmse, validate_rmse, test_rmse"
   ]
  },
  {
   "cell_type": "code",
   "execution_count": 50,
   "id": "b58e08dd",
   "metadata": {},
   "outputs": [],
   "source": [
    "# Interaction terms only\n",
    "\n",
    "poly = PolynomialFeatures(degree=2, include_bias=False, interaction_only=True)\n",
    "poly.fit(X_train)\n",
    "X_train_poly = pd.DataFrame(\n",
    "    poly.transform(X_train),\n",
    "    columns=poly.get_feature_names(X_train.columns),\n",
    "    index=X_train.index,\n",
    ")\n",
    "lm = LinearRegression()\n",
    "lm.fit(X_train_poly, y_train)\n",
    "\n",
    "X_validate_poly = poly.transform(X_validate)\n",
    "X_test_poly = poly.transform(X_test)\n",
    "\n",
    "train_pred['polynomial degree 2 only interaction'] = lm.predict(X_train_poly)\n",
    "validate_pred['polynomial degree 2 only interaction'] = lm.predict(X_validate_poly)\n",
    "test_pred['polynomial degree 2 only interaction'] = lm.predict(X_test_poly)"
   ]
  },
  {
   "cell_type": "code",
   "execution_count": 51,
   "id": "cc1e56e3",
   "metadata": {},
   "outputs": [
    {
     "data": {
      "text/plain": [
       "(0.162169750241023, 0.15783425565437587, 0.17806351459678002)"
      ]
     },
     "execution_count": 51,
     "metadata": {},
     "output_type": "execute_result"
    }
   ],
   "source": [
    "train_rmse = mean_squared_error(train_pred.actual,train_pred['polynomial degree 2 only interaction'], squared = False)\n",
    "validate_rmse = mean_squared_error(validate_pred.actual,validate_pred['polynomial degree 2 only interaction'], squared = False)\n",
    "test_rmse = mean_squared_error(test_pred.actual,test_pred['polynomial degree 2 only interaction'], squared = False)\n",
    "train_rmse, validate_rmse, test_rmse"
   ]
  },
  {
   "cell_type": "code",
   "execution_count": 52,
   "id": "bfad9183",
   "metadata": {},
   "outputs": [],
   "source": [
    "# k=3\n",
    "poly = PolynomialFeatures(degree=3, include_bias=False, interaction_only=False)\n",
    "poly.fit(X_train)\n",
    "X_train_poly = pd.DataFrame(\n",
    "    poly.transform(X_train),\n",
    "    columns=poly.get_feature_names(X_train.columns),\n",
    "    index=X_train.index,\n",
    ")\n",
    "lm = LinearRegression()\n",
    "lm.fit(X_train_poly, y_train)\n",
    "X_validate_poly = poly.transform(X_validate)\n",
    "X_test_poly = poly.transform(X_test)\n",
    "train_pred['polynomial degree 3'] = lm.predict(X_train_poly)\n",
    "validate_pred['polynomial degree 3'] = lm.predict(X_validate_poly)\n",
    "test_pred['polynomial degree 3'] = lm.predict(X_test_poly)"
   ]
  },
  {
   "cell_type": "code",
   "execution_count": 53,
   "id": "4d806b4b",
   "metadata": {},
   "outputs": [
    {
     "data": {
      "text/plain": [
       "(0.16067604278745912, 0.1580339094144225, 0.17804316255180633)"
      ]
     },
     "execution_count": 53,
     "metadata": {},
     "output_type": "execute_result"
    }
   ],
   "source": [
    "train_rmse = mean_squared_error(train_pred.actual,train_pred['polynomial degree 3'], squared = False)\n",
    "validate_rmse = mean_squared_error(validate_pred.actual,validate_pred['polynomial degree 3'], squared = False)\n",
    "test_rmse = mean_squared_error(test_pred.actual,test_pred['polynomial degree 3'], squared = False)\n",
    "train_rmse, validate_rmse, test_rmse"
   ]
  },
  {
   "cell_type": "code",
   "execution_count": 54,
   "id": "b42b57cc",
   "metadata": {},
   "outputs": [],
   "source": [
    "# k=4\n",
    "poly = PolynomialFeatures(degree=4, include_bias=False, interaction_only=False)\n",
    "poly.fit(X_train)\n",
    "X_train_poly = pd.DataFrame(\n",
    "    poly.transform(X_train),\n",
    "    columns=poly.get_feature_names(X_train.columns),\n",
    "    index=X_train.index,\n",
    ")\n",
    "lm = LinearRegression()\n",
    "lm.fit(X_train_poly, y_train)\n",
    "X_validate_poly = poly.transform(X_validate)\n",
    "X_test_poly = poly.transform(X_test)\n",
    "train_pred['polynomial degree 4'] = lm.predict(X_train_poly)\n",
    "validate_pred['polynomial degree 4'] = lm.predict(X_validate_poly)\n",
    "test_pred['polynomial degree 4'] = lm.predict(X_test_poly)"
   ]
  },
  {
   "cell_type": "code",
   "execution_count": 55,
   "id": "894b304d",
   "metadata": {},
   "outputs": [
    {
     "data": {
      "text/plain": [
       "(0.15896990568372965, 0.15947280347014609, 0.17988356411859527)"
      ]
     },
     "execution_count": 55,
     "metadata": {},
     "output_type": "execute_result"
    }
   ],
   "source": [
    "train_rmse = mean_squared_error(train_pred.actual,train_pred['polynomial degree 4'], squared = False)\n",
    "validate_rmse = mean_squared_error(validate_pred.actual,validate_pred['polynomial degree 4'], squared = False)\n",
    "test_rmse = mean_squared_error(test_pred.actual,test_pred['polynomial degree 4'], squared = False)\n",
    "train_rmse, validate_rmse, test_rmse"
   ]
  },
  {
   "cell_type": "markdown",
   "id": "d99c5837",
   "metadata": {},
   "source": [
    "## Lasso-Lars"
   ]
  },
  {
   "cell_type": "code",
   "execution_count": 56,
   "id": "dfb32857",
   "metadata": {},
   "outputs": [],
   "source": [
    "# create the model object\n",
    "lars = LassoLars(alpha=1)\n",
    "\n",
    "# fit the model to our training data\n",
    "lars.fit(X_train, y_train)\n",
    "\n",
    "# predict validate\n",
    "X_train_pred_lars = lars.predict(X_train)\n",
    "X_validate_pred_lars = lars.predict(X_validate)\n",
    "X_test_pred_lars = lars.predict(X_test)\n",
    "# Add lassolars predictions to our predictions DataFrame\n",
    "train_pred['lasso_lars'] = X_train_pred_lars\n",
    "validate_pred['lasso_lars'] = X_validate_pred_lars\n",
    "test_pred['lasso_lars'] = X_test_pred_lars"
   ]
  },
  {
   "cell_type": "code",
   "execution_count": 57,
   "id": "a81c07ff",
   "metadata": {},
   "outputs": [
    {
     "data": {
      "text/plain": [
       "(0.16262411066536314, 0.1580787480680725, 0.1784697030682737)"
      ]
     },
     "execution_count": 57,
     "metadata": {},
     "output_type": "execute_result"
    }
   ],
   "source": [
    "train_rmse = mean_squared_error(train_pred.actual,train_pred['lasso_lars'], squared = False)\n",
    "validate_rmse = mean_squared_error(validate_pred.actual,validate_pred['lasso_lars'], squared = False)\n",
    "test_rmse = mean_squared_error(test_pred.actual,test_pred['lasso_lars'], squared = False)\n",
    "train_rmse, validate_rmse, test_rmse"
   ]
  },
  {
   "cell_type": "markdown",
   "id": "aaf1ee76",
   "metadata": {},
   "source": [
    "## Generalized Linear Model"
   ]
  },
  {
   "cell_type": "code",
   "execution_count": 82,
   "id": "7be5e01d",
   "metadata": {},
   "outputs": [
    {
     "ename": "ValueError",
     "evalue": "Some value(s) of y are out of the valid range for family TweedieDistribution",
     "output_type": "error",
     "traceback": [
      "\u001b[0;31m---------------------------------------------------------------------------\u001b[0m",
      "\u001b[0;31mValueError\u001b[0m                                Traceback (most recent call last)",
      "Input \u001b[0;32mIn [82]\u001b[0m, in \u001b[0;36m<cell line: 7>\u001b[0;34m()\u001b[0m\n\u001b[1;32m      4\u001b[0m glm \u001b[38;5;241m=\u001b[39m TweedieRegressor(power\u001b[38;5;241m=\u001b[39m\u001b[38;5;241m1\u001b[39m, alpha\u001b[38;5;241m=\u001b[39m\u001b[38;5;241m0\u001b[39m)\n\u001b[1;32m      6\u001b[0m \u001b[38;5;66;03m# fit the model to our training data\u001b[39;00m\n\u001b[0;32m----> 7\u001b[0m \u001b[43mglm\u001b[49m\u001b[38;5;241;43m.\u001b[39;49m\u001b[43mfit\u001b[49m\u001b[43m(\u001b[49m\u001b[43mX_train\u001b[49m\u001b[43m,\u001b[49m\u001b[43m \u001b[49m\u001b[43my_train\u001b[49m\u001b[43m)\u001b[49m\n\u001b[1;32m      9\u001b[0m \u001b[38;5;66;03m# predict train\u001b[39;00m\n\u001b[1;32m     10\u001b[0m X_train_predict_glm \u001b[38;5;241m=\u001b[39m glm\u001b[38;5;241m.\u001b[39mpredict(X_train)\n",
      "File \u001b[0;32m/usr/local/anaconda3/lib/python3.9/site-packages/sklearn/linear_model/_glm/glm.py:263\u001b[0m, in \u001b[0;36mGeneralizedLinearRegressor.fit\u001b[0;34m(self, X, y, sample_weight)\u001b[0m\n\u001b[1;32m    260\u001b[0m _, n_features \u001b[38;5;241m=\u001b[39m X\u001b[38;5;241m.\u001b[39mshape\n\u001b[1;32m    262\u001b[0m \u001b[38;5;28;01mif\u001b[39;00m \u001b[38;5;129;01mnot\u001b[39;00m np\u001b[38;5;241m.\u001b[39mall(family\u001b[38;5;241m.\u001b[39min_y_range(y)):\n\u001b[0;32m--> 263\u001b[0m     \u001b[38;5;28;01mraise\u001b[39;00m \u001b[38;5;167;01mValueError\u001b[39;00m(\n\u001b[1;32m    264\u001b[0m         \u001b[38;5;124m\"\u001b[39m\u001b[38;5;124mSome value(s) of y are out of the valid range for family \u001b[39m\u001b[38;5;132;01m{0}\u001b[39;00m\u001b[38;5;124m\"\u001b[39m\u001b[38;5;241m.\u001b[39mformat(\n\u001b[1;32m    265\u001b[0m             family\u001b[38;5;241m.\u001b[39m\u001b[38;5;18m__class__\u001b[39m\u001b[38;5;241m.\u001b[39m\u001b[38;5;18m__name__\u001b[39m\n\u001b[1;32m    266\u001b[0m         )\n\u001b[1;32m    267\u001b[0m     )\n\u001b[1;32m    268\u001b[0m \u001b[38;5;66;03m# TODO: if alpha=0 check that X is not rank deficient\u001b[39;00m\n\u001b[1;32m    269\u001b[0m \n\u001b[1;32m    270\u001b[0m \u001b[38;5;66;03m# rescaling of sample_weight\u001b[39;00m\n\u001b[0;32m   (...)\u001b[0m\n\u001b[1;32m    275\u001b[0m \u001b[38;5;66;03m# we rescale weights such that sum(weights) = 1 and this becomes\u001b[39;00m\n\u001b[1;32m    276\u001b[0m \u001b[38;5;66;03m# 1/2*deviance + L2 with deviance=sum(weights * unit_deviance)\u001b[39;00m\n\u001b[1;32m    277\u001b[0m weights \u001b[38;5;241m=\u001b[39m weights \u001b[38;5;241m/\u001b[39m weights\u001b[38;5;241m.\u001b[39msum()\n",
      "\u001b[0;31mValueError\u001b[0m: Some value(s) of y are out of the valid range for family TweedieDistribution"
     ]
    }
   ],
   "source": [
    "from sklearn.linear_model import TweedieRegressor\n",
    "\n",
    "# create the model object\n",
    "glm = TweedieRegressor(power=1, alpha=0)\n",
    "\n",
    "# fit the model to our training data\n",
    "glm.fit(X_train, y_train)\n",
    "\n",
    "# predict train\n",
    "X_train_predict_glm = glm.predict(X_train)\n",
    "X_validate_predict_glm = glm.predict(X_validate)\n",
    "X_test_predict_glm = glm.predict(X_test)\n",
    "# Add lassolars predictions to our predictions DataFrame\n",
    "train_pred['glm'] = X_train_predict_glm\n",
    "validate_pred['glm'] = X_validate_predict_glm\n",
    "test_pred['glm'] = X_test_predict_glm"
   ]
  },
  {
   "cell_type": "code",
   "execution_count": null,
   "id": "62042f02",
   "metadata": {},
   "outputs": [],
   "source": []
  }
 ],
 "metadata": {
  "kernelspec": {
   "display_name": "Python 3 (ipykernel)",
   "language": "python",
   "name": "python3"
  },
  "language_info": {
   "codemirror_mode": {
    "name": "ipython",
    "version": 3
   },
   "file_extension": ".py",
   "mimetype": "text/x-python",
   "name": "python",
   "nbconvert_exporter": "python",
   "pygments_lexer": "ipython3",
   "version": "3.9.12"
  }
 },
 "nbformat": 4,
 "nbformat_minor": 5
}
