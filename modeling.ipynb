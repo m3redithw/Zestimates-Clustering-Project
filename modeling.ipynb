{
 "cells": [
  {
   "cell_type": "code",
   "execution_count": 1,
   "id": "84b81fe6",
   "metadata": {},
   "outputs": [],
   "source": [
    "from imports import *\n",
    "\n",
    "# set columnns display format\n",
    "pd.set_option('display.max_columns', None)\n",
    "# default pandas decimal number display format\n",
    "# pd.options.display.float_format = '{:20,.3f}'.format"
   ]
  },
  {
   "cell_type": "code",
   "execution_count": 2,
   "id": "0393992a",
   "metadata": {},
   "outputs": [],
   "source": [
    "# import raw, messy data\n",
    "df = acquire.get_zillow_data()"
   ]
  },
  {
   "cell_type": "code",
   "execution_count": 3,
   "id": "45b5f485",
   "metadata": {},
   "outputs": [],
   "source": [
    "# clean data\n",
    "df = prepare.prep_zillow(df)"
   ]
  },
  {
   "cell_type": "code",
   "execution_count": 4,
   "id": "445bda5a",
   "metadata": {},
   "outputs": [],
   "source": [
    "# scale and split the data\n",
    "train, validate, test = prepare.split_scale(df)"
   ]
  },
  {
   "cell_type": "code",
   "execution_count": 5,
   "id": "a510b237",
   "metadata": {},
   "outputs": [],
   "source": [
    "# adding location clusters A to dataframe\n",
    "cols = ['latitude', 'longitude', 'zip_bin_insgfnt high', 'zip_bin_insgfnt low',\n",
    "       'zip_bin_sgfnt high']\n",
    "kmeans = KMeans(n_clusters=4)\n",
    "kmeans.fit(train[cols])\n",
    "\n",
    "train['location_clusters_a'] = kmeans.predict(train[cols])\n",
    "validate['location_clusters_a'] = kmeans.predict(validate[cols])\n",
    "test['location_clusters_a'] = kmeans.predict(test[cols])"
   ]
  },
  {
   "cell_type": "code",
   "execution_count": 6,
   "id": "35d07d77",
   "metadata": {},
   "outputs": [],
   "source": [
    "# adding location clusters B to dataframe\n",
    "cols = ['county_Los Angeles', 'county_Orange', 'zip_bin_insgfnt high', 'zip_bin_insgfnt low',\n",
    "       'zip_bin_sgfnt high']\n",
    "kmeans = KMeans(n_clusters=5)\n",
    "kmeans.fit(train[cols])\n",
    "\n",
    "train['location_clusters_b'] = kmeans.predict(train[cols])\n",
    "validate['location_clusters_b'] = kmeans.predict(validate[cols])\n",
    "test['location_clusters_b'] = kmeans.predict(test[cols])"
   ]
  },
  {
   "cell_type": "code",
   "execution_count": 7,
   "id": "c0bc5c82",
   "metadata": {},
   "outputs": [],
   "source": [
    "# adding area clusters to dataframe - somewhat significant\n",
    "\n",
    "cols =['total_sqft', 'lot_sqft', 'living_sqft']\n",
    "kmeans = KMeans(n_clusters=3)\n",
    "kmeans.fit(train[cols])\n",
    "\n",
    "train['area_clusters'] = kmeans.predict(train[cols])\n",
    "validate['area_clusters'] = kmeans.predict(validate[cols])\n",
    "test['area_clusters'] = kmeans.predict(test[cols])"
   ]
  },
  {
   "cell_type": "code",
   "execution_count": 19,
   "id": "eb4eeb86",
   "metadata": {},
   "outputs": [],
   "source": [
    "# adding size clusters A to dataframe - not significant\n",
    "\n",
    "cols = ['bedrooms', 'bathrooms', 'full_bath']\n",
    "kmeans = KMeans(n_clusters=3)\n",
    "kmeans.fit(train[cols])\n",
    "train['size_clusters_a'] = kmeans.predict(train[cols])\n",
    "validate['size_clusters_a'] = kmeans.predict(validate[cols])\n",
    "test['size_clusters_a'] = kmeans.predict(test[cols])"
   ]
  },
  {
   "cell_type": "code",
   "execution_count": 20,
   "id": "9c0e4df4",
   "metadata": {},
   "outputs": [],
   "source": [
    "# adding size clusters B to dataframe - not significant\n",
    "\n",
    "cols = ['bedrooms', 'bathrooms', 'full_bath', 'roomcnt']\n",
    "kmeans = KMeans(n_clusters=4)\n",
    "kmeans.fit(train[cols])\n",
    "train['size_clusters_b'] = kmeans.predict(train[cols])\n",
    "validate['size_clusters_b'] = kmeans.predict(validate[cols])\n",
    "test['size_clusters_b'] = kmeans.predict(test[cols])"
   ]
  },
  {
   "cell_type": "code",
   "execution_count": 14,
   "id": "16166cf7",
   "metadata": {},
   "outputs": [],
   "source": [
    "# adding value clusters to dataframe - not significant\n",
    "\n",
    "cols = ['structure_value', 'assessed_value', 'land_value','taxamount']\n",
    "kmeans = KMeans(n_clusters=3)\n",
    "kmeans.fit(train[cols])\n",
    "train['value_clusters'] = kmeans.predict(train[cols])\n",
    "validate['value_clusters'] = kmeans.predict(validate[cols])\n",
    "test['value_clusters'] = kmeans.predict(test[cols])"
   ]
  },
  {
   "cell_type": "markdown",
   "id": "a4729027",
   "metadata": {},
   "source": [
    "**Baseline (0.16262411066536314, 0.15806831374792724)**\n",
    "### ['age', 'location_clusters_a', 'area_clusters','size_clusters_a','value_clusters','transaction_month']\n",
    "    \n",
    "    **Polynomial k=2**\n",
    "    (0.16163094482814297, 0.1576410238958071)\n",
    "    \n",
    "    **Polynomial k=3**\n",
    "    (0.16097933947491191, 0.15775996884892424)\n",
    "    \n",
    "    **Lasso-Lars**\n",
    "    (0.16262411066536314, 0.1580787480680725)\n",
    "    \n",
    "### ['age', 'location_clusters_a', 'total_sqft','lot_sqft','size_clusters_a','value_clusters','transaction_month']\n",
    "\n",
    "    **Multiple Regression**\n",
    "    Train:\n",
    "    (multiple_rfe_k=, 5)    0.162492\n",
    "    (multiple_rfe_k=, 4)    0.162492\n",
    "    (multiple_rfe_k=, 3)    0.162492\n",
    "    (multiple_rfe_k=, 2)    0.162497\n",
    "    baseline                0.162624\n",
    "    \n",
    "    Validate:\n",
    "    actual                  0.000000\n",
    "    (multiple_rfe_k=, 2)    0.157849\n",
    "    (multiple_rfe_k=, 3)    0.157860\n",
    "    (multiple_rfe_k=, 5)    0.157861\n",
    "    (multiple_rfe_k=, 4)    0.157861\n",
    "    basline                 0.158068\n",
    "    \n",
    "    **Polynomial k==2**\n",
    "    (0.1615744049461564, 0.157551464177825)\n",
    "    \n",
    "    **Polynomial k==3**\n",
    "    (0.16076128853719324, 0.15804733196158555)\n",
    "    \n",
    "    **Polynomial k==4**\n",
    "    (0.15985183145896883, 0.1589364765615364)\n",
    "    \n",
    "    **Lasso-Lars**\n",
    "    (0.16262411066536314, 0.1580787480680725)\n",
    "\n",
    "### ['age', 'location_clusters_a', 'total_sqft','lot_sqft','bedrooms', 'bathrooms', 'structure_value', 'taxamount', 'transaction_month'] (so far the best)\n",
    "\n",
    "    **Multiple Regression**\n",
    "    train\n",
    "    actual                  0.000000\n",
    "    (multiple_rfe_k=, 5)    0.162424\n",
    "    (multiple_rfe_k=, 4)    0.162429\n",
    "    (multiple_rfe_k=, 3)    0.162437\n",
    "    (multiple_rfe_k=, 2)    0.162445\n",
    "    baseline                0.162624\n",
    "    dtype: float64\n",
    "    \n",
    "    validate\n",
    "    actual                  0.000000\n",
    "    (multiple_rfe_k=, 4)    0.157832\n",
    "    (multiple_rfe_k=, 5)    0.157835\n",
    "    (multiple_rfe_k=, 3)    0.157858\n",
    "    (multiple_rfe_k=, 2)    0.157899\n",
    "    basline                 0.158068\n",
    "    \n",
    "    **Polynomial k==2**\n",
    "    (0.16145260909548775, 0.15743344204539705)\n",
    "    \n",
    "    **Polynomial k==3**\n",
    "    (0.16022373228844322, 0.15835066534633793)\n",
    "    \n",
    "    **Polynomial k==4**\n",
    "    (0.15762855635934617, 0.16254803621634623)\n",
    "    \n",
    "    **Lasso-Lars**\n",
    "    (0.16262411066536314, 0.1580787480680725)\n",
    "\n",
    "### ['age', 'location_clusters_a', 'total_sqft','lot_sqft','bedrooms', 'bathrooms', 'assessed_value', 'transaction_month']     \n",
    "    **Multiple Regression**\n",
    "    train\n",
    "    actual                  0.000000\n",
    "    (multiple_rfe_k=, 7)    0.162415\n",
    "    (multiple_rfe_k=, 6)    0.162415\n",
    "    (multiple_rfe_k=, 5)    0.162415\n",
    "    (multiple_rfe_k=, 4)    0.162473\n",
    "    (multiple_rfe_k=, 3)    0.162476\n",
    "    (multiple_rfe_k=, 2)    0.162485\n",
    "    baseline                0.162624\n",
    "    \n",
    "    validate\n",
    "    actual                  0.000000\n",
    "    (multiple_rfe_k=, 6)    0.157692\n",
    "    (multiple_rfe_k=, 5)    0.157693\n",
    "    (multiple_rfe_k=, 7)    0.157693\n",
    "    (multiple_rfe_k=, 3)    0.157810\n",
    "    (multiple_rfe_k=, 4)    0.157824\n",
    "    (multiple_rfe_k=, 2)    0.157838\n",
    "    basline                 0.158068\n",
    "    \n",
    "    **Polynomial k==2**\n",
    "    (0.16152705741887724, 0.15743526431061905)\n",
    "    \n",
    "    **Polynomial k==3**\n",
    "    (0.1605463220910924, 0.15802071621484612)\n",
    "    \n",
    "    **Polynomial k==4**\n",
    "    (0.1587417276425343, 0.15987254220274513)\n",
    "    \n",
    "    **Lasso-Lars**\n",
    "    (0.16262411066536314, 0.1580787480680725)\n",
    "### ['age', 'location_clusters_a', 'total_sqft','lot_sqft','bedrooms', 'bathrooms', 'assessed_value', 'transaction_month', 'taxamont','structure_value']\n",
    "    train\n",
    "    (multiple_rfe_k=, 7)    0.162371\n",
    "    (multiple_rfe_k=, 6)    0.162422\n",
    "    (multiple_rfe_k=, 5)    0.162424\n",
    "    (multiple_rfe_k=, 4)    0.162429\n",
    "    (multiple_rfe_k=, 3)    0.162437\n",
    "    (multiple_rfe_k=, 2)    0.162445\n",
    "    baseline                0.162624\n",
    "\n",
    "    validate\n",
    "    (multiple_rfe_k=, 7)    0.157723\n",
    "    (multiple_rfe_k=, 4)    0.157832\n",
    "    (multiple_rfe_k=, 5)    0.157835\n",
    "    (multiple_rfe_k=, 6)    0.157847\n",
    "    (multiple_rfe_k=, 3)    0.157858\n",
    "    (multiple_rfe_k=, 2)    0.157899\n",
    "    basline                 0.158068\n",
    "    \n",
    "    **Polynomial k==2**\n",
    "    (0.1614167621999337, 0.15748744020617358)\n",
    "    \n",
    "    **Polynomial k==3**\n",
    "    (0.15993021564971643, 0.1592378485797244)\n",
    "    \n",
    "    **Polynomial k==4**\n",
    "    (0.15621698516821467, 0.18506796501670858)\n",
    "    \n",
    "    **Lasso-Lars**\n",
    "    (0.16262411066536314, 0.1580787480680725)"
   ]
  },
  {
   "cell_type": "code",
   "execution_count": 134,
   "id": "cf1fa5ce",
   "metadata": {},
   "outputs": [],
   "source": [
    "# set x and y\n",
    "cols = ['age', 'location_clusters_a', 'total_sqft','lot_sqft','bedrooms', 'bathrooms', 'taxamount','structure_value','assessed_value', 'transaction_month'] \n",
    "\n",
    "X_train = train[cols]\n",
    "y_train = train.logerror\n",
    "\n",
    "X_validate = validate[cols]\n",
    "y_validate = validate.logerror\n",
    "\n",
    "X_test = test[cols]\n",
    "y_test = test.logerror"
   ]
  },
  {
   "cell_type": "markdown",
   "id": "146671b6",
   "metadata": {},
   "source": [
    "## Multiple  Regression + RFE"
   ]
  },
  {
   "cell_type": "code",
   "execution_count": 135,
   "id": "663bc06e",
   "metadata": {},
   "outputs": [
    {
     "name": "stdout",
     "output_type": "stream",
     "text": [
      "selected top 6 features: Index(['age', 'total_sqft', 'bedrooms', 'bathrooms', 'taxamount',\n",
      "       'structure_value'],\n",
      "      dtype='object')\n"
     ]
    }
   ],
   "source": [
    "from sklearn.linear_model import LinearRegression\n",
    "lm = LinearRegression()\n",
    "\n",
    "# 1. Transform our X\n",
    "rfe = RFE(lm, n_features_to_select=6)\n",
    "rfe.fit(X_train, y_train)\n",
    "print('selected top 6 features:', X_train.columns[rfe.support_])\n",
    "X_train_rfe = rfe.transform(X_train)"
   ]
  },
  {
   "cell_type": "code",
   "execution_count": 136,
   "id": "a33b3502",
   "metadata": {},
   "outputs": [],
   "source": [
    "train_predictions = pd.DataFrame({\n",
    "    'actual': train.logerror\n",
    "}) \n",
    "validate_predictions = pd.DataFrame({\n",
    "    'actual': validate.logerror\n",
    "})"
   ]
  },
  {
   "cell_type": "code",
   "execution_count": 137,
   "id": "99ddea23",
   "metadata": {},
   "outputs": [],
   "source": [
    "train_predictions['baseline'] = y_train.mean()\n",
    "validate_predictions['basline']=y_validate.mean()"
   ]
  },
  {
   "cell_type": "code",
   "execution_count": 138,
   "id": "40f94678",
   "metadata": {},
   "outputs": [],
   "source": [
    "for k in range(2,8):\n",
    "    lm = LinearRegression()\n",
    "    # 1. Transform our X\n",
    "    rfe = RFE(lm, n_features_to_select=k)\n",
    "    rfe.fit(X_train, y_train)\n",
    "    # 2. Use the transformed x in our model\n",
    "    X_train_rfe = rfe.transform(X_train)\n",
    "    X_validate_rfe = rfe.transform(X_validate)\n",
    "    lm.fit(X_train_rfe, y_train)\n",
    "    \n",
    "    # Make predictions\n",
    "    train_predictions['multiple_rfe_k=', k] = lm.predict(X_train_rfe)\n",
    "    validate_predictions['multiple_rfe_k=', k] = lm.predict(X_validate_rfe)\n",
    "    k+=1"
   ]
  },
  {
   "cell_type": "code",
   "execution_count": 139,
   "id": "1a47616d",
   "metadata": {},
   "outputs": [
    {
     "data": {
      "text/plain": [
       "actual                  0.000000\n",
       "(multiple_rfe_k=, 7)    0.162371\n",
       "(multiple_rfe_k=, 6)    0.162422\n",
       "(multiple_rfe_k=, 5)    0.162424\n",
       "(multiple_rfe_k=, 4)    0.162429\n",
       "(multiple_rfe_k=, 3)    0.162437\n",
       "(multiple_rfe_k=, 2)    0.162445\n",
       "baseline                0.162624\n",
       "dtype: float64"
      ]
     },
     "execution_count": 139,
     "metadata": {},
     "output_type": "execute_result"
    }
   ],
   "source": [
    "def calculate_rmse(y_predicted):\n",
    "    return mean_squared_error(train_predictions.actual, y_predicted, squared = False)\n",
    "\n",
    "train_predictions.apply(calculate_rmse).sort_values()"
   ]
  },
  {
   "cell_type": "code",
   "execution_count": 140,
   "id": "99bcfe6b",
   "metadata": {},
   "outputs": [
    {
     "data": {
      "text/plain": [
       "actual                  0.000000\n",
       "(multiple_rfe_k=, 7)    0.157723\n",
       "(multiple_rfe_k=, 4)    0.157832\n",
       "(multiple_rfe_k=, 5)    0.157835\n",
       "(multiple_rfe_k=, 6)    0.157847\n",
       "(multiple_rfe_k=, 3)    0.157858\n",
       "(multiple_rfe_k=, 2)    0.157899\n",
       "basline                 0.158068\n",
       "dtype: float64"
      ]
     },
     "execution_count": 140,
     "metadata": {},
     "output_type": "execute_result"
    }
   ],
   "source": [
    "def calculate_rmse(y_predicted):\n",
    "    return mean_squared_error(validate_predictions.actual, y_predicted, squared = False)\n",
    "\n",
    "validate_predictions.apply(calculate_rmse).sort_values()"
   ]
  },
  {
   "cell_type": "markdown",
   "id": "c6e4d375",
   "metadata": {},
   "source": [
    "## Polynomial Features"
   ]
  },
  {
   "cell_type": "code",
   "execution_count": 141,
   "id": "66c6aece",
   "metadata": {},
   "outputs": [],
   "source": [
    "train_pred = pd.DataFrame({\n",
    "    'actual': train.logerror\n",
    "}) \n",
    "validate_pred = pd.DataFrame({\n",
    "    'actual': validate.logerror\n",
    "}) \n",
    "train_pred['baseline'] = y_train.mean()\n",
    "validate_pred['basline']=y_validate.mean()"
   ]
  },
  {
   "cell_type": "code",
   "execution_count": 142,
   "id": "093c3d64",
   "metadata": {},
   "outputs": [],
   "source": [
    "from sklearn.preprocessing import PolynomialFeatures\n",
    "\n",
    "# 1. Generate Polynomial Features, k=2\n",
    "poly = PolynomialFeatures(degree=2, include_bias=False, interaction_only=False)\n",
    "poly.fit(X_train)\n",
    "X_train_poly = pd.DataFrame(\n",
    "    poly.transform(X_train),\n",
    "    columns=poly.get_feature_names(X_train.columns),\n",
    "    index=X_train.index,\n",
    ")"
   ]
  },
  {
   "cell_type": "code",
   "execution_count": 143,
   "id": "ec859301",
   "metadata": {},
   "outputs": [],
   "source": [
    "lm = LinearRegression()\n",
    "lm.fit(X_train_poly, y_train)\n",
    "X_validate_poly = poly.transform(X_validate)\n",
    "train_pred['baseline'] = y_train.mean()\n",
    "validate_pred['baseline'] = y_validate.mean()\n",
    "train_pred['polynomial degree 2'] = lm.predict(X_train_poly)\n",
    "validate_pred['polynomial degree 2'] = lm.predict(X_validate_poly)"
   ]
  },
  {
   "cell_type": "code",
   "execution_count": 144,
   "id": "d246b117",
   "metadata": {},
   "outputs": [
    {
     "data": {
      "text/plain": [
       "0.16262411066536314"
      ]
     },
     "execution_count": 144,
     "metadata": {},
     "output_type": "execute_result"
    }
   ],
   "source": [
    "baseline_rmse = mean_squared_error(train_pred.actual,train_pred['baseline'], squared = False)\n",
    "baseline_rmse"
   ]
  },
  {
   "cell_type": "code",
   "execution_count": 145,
   "id": "113ee0fe",
   "metadata": {},
   "outputs": [
    {
     "data": {
      "text/plain": [
       "0.15806831374792724"
      ]
     },
     "execution_count": 145,
     "metadata": {},
     "output_type": "execute_result"
    }
   ],
   "source": [
    "validate_rmse = mean_squared_error(validate_pred.actual,validate_pred['baseline'], squared = False)\n",
    "validate_rmse"
   ]
  },
  {
   "cell_type": "code",
   "execution_count": 146,
   "id": "c52199f2",
   "metadata": {},
   "outputs": [
    {
     "data": {
      "text/plain": [
       "(0.1614167621999337, 0.15748744020617358)"
      ]
     },
     "execution_count": 146,
     "metadata": {},
     "output_type": "execute_result"
    }
   ],
   "source": [
    "train_rmse = mean_squared_error(train_pred.actual,train_pred['polynomial degree 2'], squared = False)\n",
    "validate_rmse = mean_squared_error(validate_pred.actual,validate_pred['polynomial degree 2'], squared = False)\n",
    "train_rmse, validate_rmse"
   ]
  },
  {
   "cell_type": "code",
   "execution_count": 147,
   "id": "29f9038f",
   "metadata": {},
   "outputs": [],
   "source": [
    "# Interaction terms only\n",
    "\n",
    "poly = PolynomialFeatures(degree=2, include_bias=False, interaction_only=True)\n",
    "poly.fit(X_train)\n",
    "X_train_poly = pd.DataFrame(\n",
    "    poly.transform(X_train),\n",
    "    columns=poly.get_feature_names(X_train.columns),\n",
    "    index=X_train.index,\n",
    ")\n",
    "lm = LinearRegression()\n",
    "lm.fit(X_train_poly, y_train)\n",
    "\n",
    "X_validate_poly = poly.transform(X_validate)\n",
    "train_pred['polynomial degree 2 only interaction'] = lm.predict(X_train_poly)\n",
    "validate_pred['polynomial degree 2 only interaction'] = lm.predict(X_validate_poly)"
   ]
  },
  {
   "cell_type": "code",
   "execution_count": 148,
   "id": "0aaabfab",
   "metadata": {},
   "outputs": [
    {
     "data": {
      "text/plain": [
       "(0.16197666742927733, 0.1577878248855033)"
      ]
     },
     "execution_count": 148,
     "metadata": {},
     "output_type": "execute_result"
    }
   ],
   "source": [
    "train_rmse = mean_squared_error(train_pred.actual,train_pred['polynomial degree 2 only interaction'], squared = False)\n",
    "validate_rmse = mean_squared_error(validate_pred.actual,validate_pred['polynomial degree 2 only interaction'], squared = False)\n",
    "train_rmse, validate_rmse"
   ]
  },
  {
   "cell_type": "code",
   "execution_count": 149,
   "id": "f562a010",
   "metadata": {},
   "outputs": [],
   "source": [
    "# k=3\n",
    "poly = PolynomialFeatures(degree=3, include_bias=False, interaction_only=False)\n",
    "poly.fit(X_train)\n",
    "X_train_poly = pd.DataFrame(\n",
    "    poly.transform(X_train),\n",
    "    columns=poly.get_feature_names(X_train.columns),\n",
    "    index=X_train.index,\n",
    ")\n",
    "lm = LinearRegression()\n",
    "lm.fit(X_train_poly, y_train)\n",
    "X_validate_poly = poly.transform(X_validate)\n",
    "train_pred['baseline'] = y_train.mean()\n",
    "validate_pred['baseline'] = y_validate.mean()\n",
    "train_pred['polynomial degree 3'] = lm.predict(X_train_poly)\n",
    "validate_pred['polynomial degree 3'] = lm.predict(X_validate_poly)"
   ]
  },
  {
   "cell_type": "code",
   "execution_count": 150,
   "id": "7a321321",
   "metadata": {},
   "outputs": [
    {
     "data": {
      "text/plain": [
       "(0.15993021564971643, 0.1592378485797244)"
      ]
     },
     "execution_count": 150,
     "metadata": {},
     "output_type": "execute_result"
    }
   ],
   "source": [
    "train_rmse = mean_squared_error(train_pred.actual,train_pred['polynomial degree 3'], squared = False)\n",
    "validate_rmse = mean_squared_error(validate_pred.actual,validate_pred['polynomial degree 3'], squared = False)\n",
    "train_rmse, validate_rmse"
   ]
  },
  {
   "cell_type": "code",
   "execution_count": 151,
   "id": "2a2d10cf",
   "metadata": {},
   "outputs": [],
   "source": [
    "# k=4\n",
    "poly = PolynomialFeatures(degree=4, include_bias=False, interaction_only=False)\n",
    "poly.fit(X_train)\n",
    "X_train_poly = pd.DataFrame(\n",
    "    poly.transform(X_train),\n",
    "    columns=poly.get_feature_names(X_train.columns),\n",
    "    index=X_train.index,\n",
    ")\n",
    "lm = LinearRegression()\n",
    "lm.fit(X_train_poly, y_train)\n",
    "X_validate_poly = poly.transform(X_validate)\n",
    "train_pred['baseline'] = y_train.mean()\n",
    "validate_pred['baseline'] = y_validate.mean()\n",
    "train_pred['polynomial degree 4'] = lm.predict(X_train_poly)\n",
    "validate_pred['polynomial degree 4'] = lm.predict(X_validate_poly)"
   ]
  },
  {
   "cell_type": "code",
   "execution_count": 152,
   "id": "46c657b3",
   "metadata": {},
   "outputs": [
    {
     "data": {
      "text/plain": [
       "(0.15621698516821467, 0.18506796501670858)"
      ]
     },
     "execution_count": 152,
     "metadata": {},
     "output_type": "execute_result"
    }
   ],
   "source": [
    "train_rmse = mean_squared_error(train_pred.actual,train_pred['polynomial degree 4'], squared = False)\n",
    "validate_rmse = mean_squared_error(validate_pred.actual,validate_pred['polynomial degree 4'], squared = False)\n",
    "train_rmse, validate_rmse"
   ]
  },
  {
   "cell_type": "markdown",
   "id": "33b1540d",
   "metadata": {},
   "source": [
    "## Lasso-Lars"
   ]
  },
  {
   "cell_type": "code",
   "execution_count": 153,
   "id": "0438d927",
   "metadata": {},
   "outputs": [],
   "source": [
    "# create the model object\n",
    "lars = LassoLars(alpha=1)\n",
    "\n",
    "# fit the model to our training data\n",
    "lars.fit(X_train, y_train)\n",
    "\n",
    "# predict validate\n",
    "X_train_pred_lars = lars.predict(X_train)\n",
    "X_validate_pred_lars = lars.predict(X_validate)\n",
    "# Add lassolars predictions to our predictions DataFrame\n",
    "train_pred['lasso_lars'] = X_train_pred_lars\n",
    "validate_pred['lasso_lars'] = X_validate_pred_lars"
   ]
  },
  {
   "cell_type": "code",
   "execution_count": 154,
   "id": "95b03789",
   "metadata": {},
   "outputs": [
    {
     "data": {
      "text/plain": [
       "(0.16262411066536314, 0.1580787480680725)"
      ]
     },
     "execution_count": 154,
     "metadata": {},
     "output_type": "execute_result"
    }
   ],
   "source": [
    "train_rmse = mean_squared_error(train_pred.actual,train_pred['lasso_lars'], squared = False)\n",
    "validate_rmse = mean_squared_error(validate_pred.actual,validate_pred['lasso_lars'], squared = False)\n",
    "train_rmse, validate_rmse"
   ]
  },
  {
   "cell_type": "markdown",
   "id": "acf05fd9",
   "metadata": {},
   "source": [
    "## Generalized Linear Model"
   ]
  },
  {
   "cell_type": "code",
   "execution_count": 82,
   "id": "e7eb2a4f",
   "metadata": {},
   "outputs": [
    {
     "ename": "ValueError",
     "evalue": "Some value(s) of y are out of the valid range for family TweedieDistribution",
     "output_type": "error",
     "traceback": [
      "\u001b[0;31m---------------------------------------------------------------------------\u001b[0m",
      "\u001b[0;31mValueError\u001b[0m                                Traceback (most recent call last)",
      "Input \u001b[0;32mIn [82]\u001b[0m, in \u001b[0;36m<cell line: 7>\u001b[0;34m()\u001b[0m\n\u001b[1;32m      4\u001b[0m glm \u001b[38;5;241m=\u001b[39m TweedieRegressor(power\u001b[38;5;241m=\u001b[39m\u001b[38;5;241m1\u001b[39m, alpha\u001b[38;5;241m=\u001b[39m\u001b[38;5;241m0\u001b[39m)\n\u001b[1;32m      6\u001b[0m \u001b[38;5;66;03m# fit the model to our training data\u001b[39;00m\n\u001b[0;32m----> 7\u001b[0m \u001b[43mglm\u001b[49m\u001b[38;5;241;43m.\u001b[39;49m\u001b[43mfit\u001b[49m\u001b[43m(\u001b[49m\u001b[43mX_train\u001b[49m\u001b[43m,\u001b[49m\u001b[43m \u001b[49m\u001b[43my_train\u001b[49m\u001b[43m)\u001b[49m\n\u001b[1;32m      9\u001b[0m \u001b[38;5;66;03m# predict train\u001b[39;00m\n\u001b[1;32m     10\u001b[0m X_train_predict_glm \u001b[38;5;241m=\u001b[39m glm\u001b[38;5;241m.\u001b[39mpredict(X_train)\n",
      "File \u001b[0;32m/usr/local/anaconda3/lib/python3.9/site-packages/sklearn/linear_model/_glm/glm.py:263\u001b[0m, in \u001b[0;36mGeneralizedLinearRegressor.fit\u001b[0;34m(self, X, y, sample_weight)\u001b[0m\n\u001b[1;32m    260\u001b[0m _, n_features \u001b[38;5;241m=\u001b[39m X\u001b[38;5;241m.\u001b[39mshape\n\u001b[1;32m    262\u001b[0m \u001b[38;5;28;01mif\u001b[39;00m \u001b[38;5;129;01mnot\u001b[39;00m np\u001b[38;5;241m.\u001b[39mall(family\u001b[38;5;241m.\u001b[39min_y_range(y)):\n\u001b[0;32m--> 263\u001b[0m     \u001b[38;5;28;01mraise\u001b[39;00m \u001b[38;5;167;01mValueError\u001b[39;00m(\n\u001b[1;32m    264\u001b[0m         \u001b[38;5;124m\"\u001b[39m\u001b[38;5;124mSome value(s) of y are out of the valid range for family \u001b[39m\u001b[38;5;132;01m{0}\u001b[39;00m\u001b[38;5;124m\"\u001b[39m\u001b[38;5;241m.\u001b[39mformat(\n\u001b[1;32m    265\u001b[0m             family\u001b[38;5;241m.\u001b[39m\u001b[38;5;18m__class__\u001b[39m\u001b[38;5;241m.\u001b[39m\u001b[38;5;18m__name__\u001b[39m\n\u001b[1;32m    266\u001b[0m         )\n\u001b[1;32m    267\u001b[0m     )\n\u001b[1;32m    268\u001b[0m \u001b[38;5;66;03m# TODO: if alpha=0 check that X is not rank deficient\u001b[39;00m\n\u001b[1;32m    269\u001b[0m \n\u001b[1;32m    270\u001b[0m \u001b[38;5;66;03m# rescaling of sample_weight\u001b[39;00m\n\u001b[0;32m   (...)\u001b[0m\n\u001b[1;32m    275\u001b[0m \u001b[38;5;66;03m# we rescale weights such that sum(weights) = 1 and this becomes\u001b[39;00m\n\u001b[1;32m    276\u001b[0m \u001b[38;5;66;03m# 1/2*deviance + L2 with deviance=sum(weights * unit_deviance)\u001b[39;00m\n\u001b[1;32m    277\u001b[0m weights \u001b[38;5;241m=\u001b[39m weights \u001b[38;5;241m/\u001b[39m weights\u001b[38;5;241m.\u001b[39msum()\n",
      "\u001b[0;31mValueError\u001b[0m: Some value(s) of y are out of the valid range for family TweedieDistribution"
     ]
    }
   ],
   "source": [
    "from sklearn.linear_model import TweedieRegressor\n",
    "\n",
    "# create the model object\n",
    "glm = TweedieRegressor(power=1, alpha=0)\n",
    "\n",
    "# fit the model to our training data\n",
    "glm.fit(X_train, y_train)\n",
    "\n",
    "# predict train\n",
    "X_train_predict_glm = glm.predict(X_train)\n",
    "X_validate_predict_glm = glm.predict(X_validate)\n",
    "# Add lassolars predictions to our predictions DataFrame\n",
    "train_pred['glm'] = X_train_predict_glm\n",
    "validate_pred['glm'] = X_validate_predict_glm"
   ]
  },
  {
   "cell_type": "code",
   "execution_count": null,
   "id": "962a6728",
   "metadata": {},
   "outputs": [],
   "source": []
  }
 ],
 "metadata": {
  "kernelspec": {
   "display_name": "Python 3 (ipykernel)",
   "language": "python",
   "name": "python3"
  },
  "language_info": {
   "codemirror_mode": {
    "name": "ipython",
    "version": 3
   },
   "file_extension": ".py",
   "mimetype": "text/x-python",
   "name": "python",
   "nbconvert_exporter": "python",
   "pygments_lexer": "ipython3",
   "version": "3.9.12"
  }
 },
 "nbformat": 4,
 "nbformat_minor": 5
}
