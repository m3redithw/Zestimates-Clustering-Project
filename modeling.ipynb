{
 "cells": [
  {
   "cell_type": "markdown",
   "id": "0e065d90",
   "metadata": {},
   "source": [
    "# Scaling"
   ]
  },
  {
   "cell_type": "code",
   "execution_count": 1,
   "id": "d16c34af",
   "metadata": {},
   "outputs": [],
   "source": [
    "from imports import *\n",
    "\n",
    "# set columnns display format\n",
    "pd.set_option('display.max_columns', None)\n",
    "# default pandas decimal number display format\n",
    "# pd.options.display.float_format = '{:20,.3f}'.format"
   ]
  },
  {
   "cell_type": "code",
   "execution_count": 2,
   "id": "ee78b36e",
   "metadata": {},
   "outputs": [],
   "source": [
    "# import raw, messy data\n",
    "df = acquire.get_zillow_data()"
   ]
  },
  {
   "cell_type": "code",
   "execution_count": 3,
   "id": "f4a58047",
   "metadata": {},
   "outputs": [],
   "source": [
    "df = prepare.prep_zillow(df)"
   ]
  },
  {
   "cell_type": "code",
   "execution_count": 4,
   "id": "5fcb377d",
   "metadata": {},
   "outputs": [],
   "source": [
    "# Copy a new dataframe to perform feature engineering\n",
    "scaled_df = df.copy()\n",
    "\n",
    "# Initiate MinMaxScaler\n",
    "scaler = MinMaxScaler()\n",
    "\n",
    "# Fit numerical features to scaler\n",
    "scaler.fit(scaled_df[['bathrooms', 'bedrooms', 'total_sqft', 'living_sqft', 'full_bath',\n",
    "       'latitude', 'longitude', 'lot_sqft', 'roomcnt',\n",
    "       'structure_value', 'assessed_value', 'land_value', 'taxamount', 'age']])\n",
    "\n",
    "# Set the features to transformed value\n",
    "scaled_df[['bathrooms', 'bedrooms', 'total_sqft', 'living_sqft', 'full_bath',\n",
    "       'latitude', 'longitude', 'lot_sqft', 'roomcnt',\n",
    "       'structure_value', 'assessed_value', 'land_value', 'taxamount', 'age']] = scaler.transform(scaled_df[['bathrooms', 'bedrooms', 'total_sqft', 'living_sqft', 'full_bath',\n",
    "       'latitude', 'longitude', 'lot_sqft', 'roomcnt',\n",
    "       'structure_value', 'assessed_value', 'land_value', 'taxamount', 'age']])\n",
    "\n",
    "# Split the scaled data into train, validate, test\n",
    "s_train, s_validate, s_test = prepare.split(scaled_df)\n",
    "\n",
    "# # Split each dataset into X, y\n",
    "# cols = ['bathrooms', 'bedrooms', 'total_sqft', 'living_sqft', 'full_bath',\n",
    "#        'latitude', 'longitude', 'lot_sqft', 'roomcnt',\n",
    "#        'structure_value', 'assessed_value', 'land_value', 'taxamount', 'age', 'county_Los Angeles',\n",
    "#        'county_Orange', 'county_Ventura']\n",
    "# X_train = s_train[cols]\n",
    "# y_train = s_train.logerror\n",
    "# X_validate = s_validate[cols]\n",
    "# y_validate = s_validate.logerror\n",
    "# X_test = s_test[cols]\n",
    "# y_test = s_test.logerror"
   ]
  },
  {
   "cell_type": "markdown",
   "id": "be714a87",
   "metadata": {},
   "source": [
    "# Clustering"
   ]
  },
  {
   "cell_type": "markdown",
   "id": "f2f8cab4",
   "metadata": {},
   "source": [
    "## Approaches / Clusters to try:\n",
    "- **Location** (`latitude`, `longitude`, `county`, `zip_code`)\n",
    "- **Age** (`age`)\n",
    "- **Area** (`total_sqft`, `living_sqft`, `lot_sqft`)\n",
    "- **Size (rooms)** (`bedrooms`, `bathrooms`, `full_bath`, `roomcnt`)\n",
    "- **Value** (`structure_value`, `assessed_value`,`land_valu`, `taxamount`)"
   ]
  },
  {
   "cell_type": "markdown",
   "id": "286b2fad",
   "metadata": {},
   "source": [
    "## Location Cluster"
   ]
  },
  {
   "cell_type": "code",
   "execution_count": null,
   "id": "1c7c7870",
   "metadata": {},
   "outputs": [],
   "source": []
  }
 ],
 "metadata": {
  "kernelspec": {
   "display_name": "Python 3 (ipykernel)",
   "language": "python",
   "name": "python3"
  },
  "language_info": {
   "codemirror_mode": {
    "name": "ipython",
    "version": 3
   },
   "file_extension": ".py",
   "mimetype": "text/x-python",
   "name": "python",
   "nbconvert_exporter": "python",
   "pygments_lexer": "ipython3",
   "version": "3.9.12"
  }
 },
 "nbformat": 4,
 "nbformat_minor": 5
}
