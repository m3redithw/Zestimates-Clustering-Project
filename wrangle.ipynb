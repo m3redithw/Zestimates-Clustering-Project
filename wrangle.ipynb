{
 "cells": [
  {
   "cell_type": "code",
   "execution_count": 1,
   "id": "7c73c7a6",
   "metadata": {},
   "outputs": [],
   "source": [
    "from imports import *\n",
    "\n",
    "# set columnns display format\n",
    "pd.set_option('display.max_columns', None)\n",
    "# default pandas decimal number display format\n",
    "pd.options.display.float_format = '{:20,.3f}'.format"
   ]
  },
  {
   "cell_type": "markdown",
   "id": "47e7b381",
   "metadata": {},
   "source": [
    "# Data Acquisition"
   ]
  },
  {
   "cell_type": "code",
   "execution_count": 2,
   "id": "fb0ae9e1",
   "metadata": {},
   "outputs": [],
   "source": [
    "def get_connection(db, user=env.user, host=env.host, password=env.password):\n",
    "    return f'mysql+pymysql://{user}:{password}@{host}/{db}'"
   ]
  },
  {
   "cell_type": "code",
   "execution_count": 3,
   "id": "5f8764c0",
   "metadata": {},
   "outputs": [],
   "source": [
    "def new_zillow_data():\n",
    "    '''\n",
    "    This function reads the Zillow data from the mySQL database into a df.\n",
    "    '''\n",
    "    # Create SQL query.\n",
    "    sql_query = '''\n",
    "    SELECT \n",
    "    prop.*,\n",
    "    pred.logerror,\n",
    "    pred.transactiondate,\n",
    "    air.airconditioningdesc,\n",
    "    arch.architecturalstyledesc,\n",
    "    build.buildingclassdesc,\n",
    "    heat.heatingorsystemdesc,\n",
    "    landuse.propertylandusedesc,\n",
    "    story.storydesc,\n",
    "    construct.typeconstructiondesc\n",
    "FROM\n",
    "    properties_2017 prop\n",
    "        INNER JOIN\n",
    "    (SELECT \n",
    "        parcelid, logerror, MAX(transactiondate) AS transactiondate\n",
    "    FROM\n",
    "        predictions_2017\n",
    "    GROUP BY parcelid ,  logerror) pred USING (parcelid)\n",
    "        LEFT JOIN\n",
    "    airconditioningtype air USING (airconditioningtypeid)\n",
    "        LEFT JOIN\n",
    "    architecturalstyletype arch USING (architecturalstyletypeid)\n",
    "        LEFT JOIN\n",
    "    buildingclasstype build USING (buildingclasstypeid)\n",
    "        LEFT JOIN\n",
    "    heatingorsystemtype heat USING (heatingorsystemtypeid)\n",
    "        LEFT JOIN\n",
    "    propertylandusetype landuse USING (propertylandusetypeid)\n",
    "        LEFT JOIN\n",
    "    storytype story USING (storytypeid)\n",
    "        LEFT JOIN\n",
    "    typeconstructiontype construct USING (typeconstructiontypeid)\n",
    "WHERE prop.propertylandusetypeid = 261 AND\n",
    "        prop.latitude IS NOT NULL\n",
    "        AND prop.longitude IS NOT NULL\n",
    "        AND transactiondate <= '2017-12-31';\n",
    "    '''\n",
    "    # Read in DataFrame from Codeup db.\n",
    "    df = pd.read_sql(sql_query, get_connection('zillow'))\n",
    "    df = df.drop(columns='id')\n",
    "    return df\n",
    "\n",
    "def get_zillow_data():\n",
    "    '''\n",
    "    This function reads in zillow data from Zillow database, writes data to\n",
    "    a csv file if a local file does not exist, and returns a df.\n",
    "    '''\n",
    "    if os.path.isfile('zillow_data.csv'):\n",
    "        \n",
    "        # If csv file exists, read in data from csv file.\n",
    "        df = pd.read_csv('zillow_data.csv', index_col=0)\n",
    "    else:\n",
    "        \n",
    "        # Read fresh data from db into a DataFrame.\n",
    "        df = new_zillow_data()\n",
    "        \n",
    "        # Write DataFrame to a csv file.\n",
    "        df.to_csv('zillow_data.csv')\n",
    "        \n",
    "    return df"
   ]
  },
  {
   "cell_type": "code",
   "execution_count": 4,
   "id": "752aa4dd",
   "metadata": {},
   "outputs": [],
   "source": [
    "df = get_zillow_data()"
   ]
  },
  {
   "cell_type": "code",
   "execution_count": 5,
   "id": "2188bffd",
   "metadata": {},
   "outputs": [
    {
     "data": {
      "text/plain": [
       "(52438, 67)"
      ]
     },
     "execution_count": 5,
     "metadata": {},
     "output_type": "execute_result"
    }
   ],
   "source": [
    "df.shape"
   ]
  },
  {
   "cell_type": "markdown",
   "id": "aae436f7",
   "metadata": {},
   "source": [
    "# Data Preparation"
   ]
  },
  {
   "cell_type": "markdown",
   "id": "d190a2b3",
   "metadata": {},
   "source": [
    "### 1. Missing Values"
   ]
  },
  {
   "cell_type": "code",
   "execution_count": 6,
   "id": "d377f9e4",
   "metadata": {},
   "outputs": [],
   "source": [
    "def handle_missing_values(df, prop_required_columns, prop_required_row):\n",
    "    threshold = int(round(prop_required_columns * len(df.index), 0))\n",
    "    df = df.dropna(axis=1, thresh=threshold) #1, or ‘columns’ : Drop columns which contain missing value\n",
    "    threshold = int(round(prop_required_row * len(df.columns), 0))\n",
    "    df = df.dropna(axis=0, thresh=threshold) #0, or ‘index’ : Drop rows which contain missing values.\n",
    "    return df"
   ]
  },
  {
   "cell_type": "code",
   "execution_count": 7,
   "id": "fe79e3f7",
   "metadata": {},
   "outputs": [],
   "source": [
    "df = handle_missing_values(df, 0.75, 0.75)"
   ]
  },
  {
   "cell_type": "code",
   "execution_count": 8,
   "id": "4f879c6f",
   "metadata": {},
   "outputs": [
    {
     "data": {
      "text/plain": [
       "(52434, 28)"
      ]
     },
     "execution_count": 8,
     "metadata": {},
     "output_type": "execute_result"
    }
   ],
   "source": [
    "df.shape"
   ]
  },
  {
   "cell_type": "code",
   "execution_count": 9,
   "id": "4c0312d3",
   "metadata": {},
   "outputs": [
    {
     "data": {
      "text/plain": [
       "parcelid                           0\n",
       "bathroomcnt                        0\n",
       "bedroomcnt                         0\n",
       "calculatedbathnbr                133\n",
       "calculatedfinishedsquarefeet      78\n",
       "finishedsquarefeet12             243\n",
       "fips                               0\n",
       "fullbathcnt                      133\n",
       "latitude                           0\n",
       "longitude                          0\n",
       "lotsizesquarefeet                366\n",
       "propertycountylandusecode          0\n",
       "propertylandusetypeid              0\n",
       "rawcensustractandblock             0\n",
       "regionidcity                    1033\n",
       "regionidcounty                     0\n",
       "regionidzip                       23\n",
       "roomcnt                            0\n",
       "yearbuilt                        112\n",
       "structuretaxvaluedollarcnt        82\n",
       "taxvaluedollarcnt                  1\n",
       "assessmentyear                     0\n",
       "landtaxvaluedollarcnt              1\n",
       "taxamount                          4\n",
       "censustractandblock              119\n",
       "logerror                           0\n",
       "transactiondate                    0\n",
       "propertylandusedesc                0\n",
       "dtype: int64"
      ]
     },
     "execution_count": 9,
     "metadata": {},
     "output_type": "execute_result"
    }
   ],
   "source": [
    "df.isnull().sum()"
   ]
  },
  {
   "cell_type": "markdown",
   "id": "0eb8c82a",
   "metadata": {},
   "source": [
    "### 2. Rename Columns"
   ]
  },
  {
   "cell_type": "code",
   "execution_count": 10,
   "id": "554618d5",
   "metadata": {},
   "outputs": [],
   "source": [
    "df.rename(columns = {'bathroomcnt':'bathrooms', 'bedroomcnt':'bedrooms',\n",
    "                              'calculatedfinishedsquarefeet':'total_sqft', 'finishedsquarefeet12': 'living_sqft', 'fullbathcnt':'full_bath', 'lotsizesquarefeet':'lot_sqft', 'regionidcity':'city', 'regionidzip':'zips', 'structuretaxvaluedollarcnt': 'structure_value', 'taxvaluedollarcnt':'assessed_value', 'landtaxvaluedollarcnt':'land_value'}, inplace = True)"
   ]
  },
  {
   "cell_type": "code",
   "execution_count": 16,
   "id": "3f2bf7c6",
   "metadata": {},
   "outputs": [
    {
     "data": {
      "text/plain": [
       "Index(['parcelid', 'bathrooms', 'bedrooms', 'calculatedbathnbr', 'total_sqft',\n",
       "       'living_sqft', 'fips', 'full_bath', 'latitude', 'longitude', 'lot_sqft',\n",
       "       'propertycountylandusecode', 'propertylandusetypeid',\n",
       "       'rawcensustractandblock', 'city', 'regionidcounty', 'zips', 'roomcnt',\n",
       "       'yearbuilt', 'structure_value', 'assessed_value', 'assessmentyear',\n",
       "       'land_value', 'taxamount', 'censustractandblock', 'logerror',\n",
       "       'transactiondate', 'propertylandusedesc', 'age', 'county'],\n",
       "      dtype='object')"
      ]
     },
     "execution_count": 16,
     "metadata": {},
     "output_type": "execute_result"
    }
   ],
   "source": [
    "df.columns"
   ]
  },
  {
   "cell_type": "markdown",
   "id": "9800eaf1",
   "metadata": {},
   "source": [
    "### 3. Data Mapping, Dummy Variables"
   ]
  },
  {
   "cell_type": "code",
   "execution_count": 12,
   "id": "3f3434dd",
   "metadata": {},
   "outputs": [],
   "source": [
    "df['age'] = 2017 - df['yearbuilt']"
   ]
  },
  {
   "cell_type": "code",
   "execution_count": 15,
   "id": "e2443c74",
   "metadata": {},
   "outputs": [],
   "source": [
    "df['county'] = df.fips.map({6037: 'Los Angeles', 6059: 'Orange', 6111: 'Ventura'})"
   ]
  },
  {
   "cell_type": "code",
   "execution_count": null,
   "id": "6a93b673",
   "metadata": {},
   "outputs": [],
   "source": [
    "df.latitude = df.latitude/1000000"
   ]
  },
  {
   "cell_type": "code",
   "execution_count": null,
   "id": "d8615a36",
   "metadata": {},
   "outputs": [],
   "source": [
    "df.longitude = df.longitude/1000000"
   ]
  },
  {
   "cell_type": "markdown",
   "id": "04d530c8",
   "metadata": {},
   "source": [
    "### 4. Drop Unuseful Columns"
   ]
  },
  {
   "cell_type": "code",
   "execution_count": 17,
   "id": "c013f5da",
   "metadata": {},
   "outputs": [],
   "source": [
    "col = ['parcelid', 'yearbuilt','fips','propertycountylandusecode', 'propertylandusetypeid', 'rawcensustractandblock', 'regionidcounty', 'censustractandblock', 'propertylandusedesc']\n",
    "df.drop(columns = col, inplace = True)"
   ]
  },
  {
   "cell_type": "markdown",
   "id": "4d2b9332",
   "metadata": {},
   "source": [
    "### 5. Data Types"
   ]
  },
  {
   "cell_type": "code",
   "execution_count": 23,
   "id": "a5876245",
   "metadata": {},
   "outputs": [
    {
     "data": {
      "text/plain": [
       "bathrooms            float64\n",
       "bedrooms             float64\n",
       "calculatedbathnbr    float64\n",
       "total_sqft           float64\n",
       "living_sqft          float64\n",
       "full_bath            float64\n",
       "latitude             float64\n",
       "longitude            float64\n",
       "lot_sqft             float64\n",
       "city                 float64\n",
       "zips                 float64\n",
       "roomcnt              float64\n",
       "structure_value      float64\n",
       "assessed_value       float64\n",
       "assessmentyear       float64\n",
       "land_value           float64\n",
       "taxamount            float64\n",
       "logerror             float64\n",
       "transactiondate       object\n",
       "age                  float64\n",
       "county                object\n",
       "dtype: object"
      ]
     },
     "execution_count": 23,
     "metadata": {},
     "output_type": "execute_result"
    }
   ],
   "source": [
    "df.dtypes"
   ]
  },
  {
   "cell_type": "code",
   "execution_count": 25,
   "id": "99c9a0fc",
   "metadata": {},
   "outputs": [],
   "source": [
    "df['city'] = df['city'].astype(object)"
   ]
  },
  {
   "cell_type": "code",
   "execution_count": null,
   "id": "8fbcc6b3",
   "metadata": {},
   "outputs": [],
   "source": []
  },
  {
   "cell_type": "code",
   "execution_count": null,
   "id": "cc36430b",
   "metadata": {},
   "outputs": [],
   "source": [
    "def split(df):\n",
    "    '''\n",
    "    This function drops the customer_id column and then splits a dataframe into \n",
    "    train, validate, and test in order to explore the data and to create and validate models. \n",
    "    It takes in a dataframe and contains an integer for setting a seed for replication. \n",
    "    Test is 20% of the original dataset. The remaining 80% of the dataset is \n",
    "    divided between valiidate and train, with validate being .30*.80= 24% of \n",
    "    the original dataset, and train being .70*.80= 56% of the original dataset. \n",
    "    The function returns, train, validate and test dataframes. \n",
    "    '''\n",
    "    train, test = train_test_split(df, test_size = .2, random_state=123)   \n",
    "    train, validate = train_test_split(train, test_size=.3, random_state=123)\n",
    "    \n",
    "    return train, validate, test"
   ]
  },
  {
   "cell_type": "code",
   "execution_count": 35,
   "id": "69ed6147",
   "metadata": {},
   "outputs": [],
   "source": [
    "df.to_csv('zillow.csv')"
   ]
  },
  {
   "cell_type": "code",
   "execution_count": null,
   "id": "e5b6a4e7",
   "metadata": {},
   "outputs": [],
   "source": []
  }
 ],
 "metadata": {
  "kernelspec": {
   "display_name": "Python 3 (ipykernel)",
   "language": "python",
   "name": "python3"
  },
  "language_info": {
   "codemirror_mode": {
    "name": "ipython",
    "version": 3
   },
   "file_extension": ".py",
   "mimetype": "text/x-python",
   "name": "python",
   "nbconvert_exporter": "python",
   "pygments_lexer": "ipython3",
   "version": "3.9.12"
  }
 },
 "nbformat": 4,
 "nbformat_minor": 5
}
