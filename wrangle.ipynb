{
 "cells": [
  {
   "cell_type": "code",
   "execution_count": 1,
   "id": "b93e4a42",
   "metadata": {},
   "outputs": [],
   "source": [
    "from imports import *\n",
    "\n",
    "# set columnns display format\n",
    "pd.set_option('display.max_columns', None)\n",
    "# default pandas decimal number display format\n",
    "pd.options.display.float_format = '{:20,.3f}'.format"
   ]
  },
  {
   "cell_type": "markdown",
   "id": "6484b8c7",
   "metadata": {},
   "source": [
    "# Data Acquisition"
   ]
  },
  {
   "cell_type": "code",
   "execution_count": 2,
   "id": "a500f297",
   "metadata": {},
   "outputs": [],
   "source": [
    "def get_connection(db, user=env.user, host=env.host, password=env.password):\n",
    "    return f'mysql+pymysql://{user}:{password}@{host}/{db}'"
   ]
  },
  {
   "cell_type": "code",
   "execution_count": 3,
   "id": "805cc66c",
   "metadata": {},
   "outputs": [],
   "source": [
    "def new_zillow_data():\n",
    "    '''\n",
    "    This function reads the Zillow data from the mySQL database into a df.\n",
    "    '''\n",
    "    # Create SQL query.\n",
    "    sql_query = '''\n",
    "    SELECT \n",
    "    prop.*,\n",
    "    pred.logerror,\n",
    "    pred.transactiondate,\n",
    "    air.airconditioningdesc,\n",
    "    arch.architecturalstyledesc,\n",
    "    build.buildingclassdesc,\n",
    "    heat.heatingorsystemdesc,\n",
    "    landuse.propertylandusedesc,\n",
    "    story.storydesc,\n",
    "    construct.typeconstructiondesc\n",
    "FROM\n",
    "    properties_2017 prop\n",
    "        INNER JOIN\n",
    "    (SELECT \n",
    "        parcelid, logerror, MAX(transactiondate) AS transactiondate\n",
    "    FROM\n",
    "        predictions_2017\n",
    "    GROUP BY parcelid ,  logerror) pred USING (parcelid)\n",
    "        LEFT JOIN\n",
    "    airconditioningtype air USING (airconditioningtypeid)\n",
    "        LEFT JOIN\n",
    "    architecturalstyletype arch USING (architecturalstyletypeid)\n",
    "        LEFT JOIN\n",
    "    buildingclasstype build USING (buildingclasstypeid)\n",
    "        LEFT JOIN\n",
    "    heatingorsystemtype heat USING (heatingorsystemtypeid)\n",
    "        LEFT JOIN\n",
    "    propertylandusetype landuse USING (propertylandusetypeid)\n",
    "        LEFT JOIN\n",
    "    storytype story USING (storytypeid)\n",
    "        LEFT JOIN\n",
    "    typeconstructiontype construct USING (typeconstructiontypeid)\n",
    "WHERE prop.propertylandusetypeid = 261 AND\n",
    "        prop.latitude IS NOT NULL\n",
    "        AND prop.longitude IS NOT NULL\n",
    "        AND transactiondate <= '2017-12-31';\n",
    "    '''\n",
    "    # Read in DataFrame from Codeup db.\n",
    "    df = pd.read_sql(sql_query, get_connection('zillow'))\n",
    "    df = df.drop(columns='id')\n",
    "    return df\n",
    "\n",
    "def get_zillow_data():\n",
    "    '''\n",
    "    This function reads in zillow data from Zillow database, writes data to\n",
    "    a csv file if a local file does not exist, and returns a df.\n",
    "    '''\n",
    "    if os.path.isfile('zillow_data.csv'):\n",
    "        \n",
    "        # If csv file exists, read in data from csv file.\n",
    "        df = pd.read_csv('zillow_data.csv', index_col=0)\n",
    "    else:\n",
    "        \n",
    "        # Read fresh data from db into a DataFrame.\n",
    "        df = new_zillow_data()\n",
    "        \n",
    "        # Write DataFrame to a csv file.\n",
    "        df.to_csv('zillow_data.csv')\n",
    "        \n",
    "    return df"
   ]
  },
  {
   "cell_type": "code",
   "execution_count": 4,
   "id": "48c3d31d",
   "metadata": {},
   "outputs": [],
   "source": [
    "df = get_zillow_data()"
   ]
  },
  {
   "cell_type": "code",
   "execution_count": 5,
   "id": "197445be",
   "metadata": {},
   "outputs": [
    {
     "data": {
      "text/plain": [
       "(52438, 67)"
      ]
     },
     "execution_count": 5,
     "metadata": {},
     "output_type": "execute_result"
    }
   ],
   "source": [
    "df.shape"
   ]
  },
  {
   "cell_type": "markdown",
   "id": "a5be57aa",
   "metadata": {},
   "source": [
    "# Data Preparation"
   ]
  },
  {
   "cell_type": "code",
   "execution_count": null,
   "id": "37ffef39",
   "metadata": {},
   "outputs": [],
   "source": []
  }
 ],
 "metadata": {
  "kernelspec": {
   "display_name": "Python 3 (ipykernel)",
   "language": "python",
   "name": "python3"
  },
  "language_info": {
   "codemirror_mode": {
    "name": "ipython",
    "version": 3
   },
   "file_extension": ".py",
   "mimetype": "text/x-python",
   "name": "python",
   "nbconvert_exporter": "python",
   "pygments_lexer": "ipython3",
   "version": "3.9.12"
  }
 },
 "nbformat": 4,
 "nbformat_minor": 5
}
