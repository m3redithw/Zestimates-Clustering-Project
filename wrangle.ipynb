{
 "cells": [
  {
   "cell_type": "code",
   "execution_count": 1,
   "id": "057036b5",
   "metadata": {},
   "outputs": [],
   "source": [
    "from imports import *\n",
    "\n",
    "# set columnns display format\n",
    "pd.set_option('display.max_columns', None)\n",
    "# default pandas decimal number display format\n",
    "pd.options.display.float_format = '{:20,.3f}'.format"
   ]
  },
  {
   "cell_type": "markdown",
   "id": "8ef3f26e",
   "metadata": {},
   "source": [
    "# Data Acquisition"
   ]
  },
  {
   "cell_type": "code",
   "execution_count": 2,
   "id": "df7a32ee",
   "metadata": {},
   "outputs": [],
   "source": [
    "def get_connection(db, user=env.user, host=env.host, password=env.password):\n",
    "    return f'mysql+pymysql://{user}:{password}@{host}/{db}'"
   ]
  },
  {
   "cell_type": "code",
   "execution_count": 3,
   "id": "0c6685ba",
   "metadata": {},
   "outputs": [],
   "source": [
    "def new_zillow_data():\n",
    "    '''\n",
    "    This function reads the Zillow data from the mySQL database into a df.\n",
    "    '''\n",
    "    # Create SQL query.\n",
    "    sql_query = '''\n",
    "    SELECT \n",
    "    prop.*,\n",
    "    pred.logerror,\n",
    "    pred.transactiondate,\n",
    "    air.airconditioningdesc,\n",
    "    arch.architecturalstyledesc,\n",
    "    build.buildingclassdesc,\n",
    "    heat.heatingorsystemdesc,\n",
    "    landuse.propertylandusedesc,\n",
    "    story.storydesc,\n",
    "    construct.typeconstructiondesc\n",
    "FROM\n",
    "    properties_2017 prop\n",
    "        INNER JOIN\n",
    "    (SELECT \n",
    "        parcelid, logerror, MAX(transactiondate) AS transactiondate\n",
    "    FROM\n",
    "        predictions_2017\n",
    "    GROUP BY parcelid ,  logerror) pred USING (parcelid)\n",
    "        LEFT JOIN\n",
    "    airconditioningtype air USING (airconditioningtypeid)\n",
    "        LEFT JOIN\n",
    "    architecturalstyletype arch USING (architecturalstyletypeid)\n",
    "        LEFT JOIN\n",
    "    buildingclasstype build USING (buildingclasstypeid)\n",
    "        LEFT JOIN\n",
    "    heatingorsystemtype heat USING (heatingorsystemtypeid)\n",
    "        LEFT JOIN\n",
    "    propertylandusetype landuse USING (propertylandusetypeid)\n",
    "        LEFT JOIN\n",
    "    storytype story USING (storytypeid)\n",
    "        LEFT JOIN\n",
    "    typeconstructiontype construct USING (typeconstructiontypeid)\n",
    "WHERE prop.propertylandusetypeid = 261 AND\n",
    "        prop.latitude IS NOT NULL\n",
    "        AND prop.longitude IS NOT NULL\n",
    "        AND transactiondate <= '2017-12-31';\n",
    "    '''\n",
    "    # Read in DataFrame from Codeup db.\n",
    "    df = pd.read_sql(sql_query, get_connection('zillow'))\n",
    "    df = df.drop(columns='id')\n",
    "    return df\n",
    "\n",
    "def get_zillow_data():\n",
    "    '''\n",
    "    This function reads in zillow data from Zillow database, writes data to\n",
    "    a csv file if a local file does not exist, and returns a df.\n",
    "    '''\n",
    "    if os.path.isfile('zillow_data.csv'):\n",
    "        \n",
    "        # If csv file exists, read in data from csv file.\n",
    "        df = pd.read_csv('zillow_data.csv', index_col=0)\n",
    "    else:\n",
    "        \n",
    "        # Read fresh data from db into a DataFrame.\n",
    "        df = new_zillow_data()\n",
    "        \n",
    "        # Write DataFrame to a csv file.\n",
    "        df.to_csv('zillow_data.csv')\n",
    "        \n",
    "    return df"
   ]
  },
  {
   "cell_type": "code",
   "execution_count": 4,
   "id": "cf2082cf",
   "metadata": {},
   "outputs": [],
   "source": [
    "df = get_zillow_data()"
   ]
  },
  {
   "cell_type": "code",
   "execution_count": 5,
   "id": "97cc78f8",
   "metadata": {},
   "outputs": [
    {
     "data": {
      "text/plain": [
       "(52438, 67)"
      ]
     },
     "execution_count": 5,
     "metadata": {},
     "output_type": "execute_result"
    }
   ],
   "source": [
    "df.shape"
   ]
  },
  {
   "cell_type": "markdown",
   "id": "d36bb51c",
   "metadata": {},
   "source": [
    "# Data Preparation"
   ]
  },
  {
   "cell_type": "markdown",
   "id": "764dd83a",
   "metadata": {},
   "source": [
    "### 1. Missing Values"
   ]
  },
  {
   "cell_type": "code",
   "execution_count": 6,
   "id": "02e33fbd",
   "metadata": {},
   "outputs": [],
   "source": [
    "def handle_missing_values(df, prop_required_columns, prop_required_row):\n",
    "    threshold = int(round(prop_required_columns * len(df.index), 0))\n",
    "    df = df.dropna(axis=1, thresh=threshold) #1, or ‘columns’ : Drop columns which contain missing value\n",
    "    threshold = int(round(prop_required_row * len(df.columns), 0))\n",
    "    df = df.dropna(axis=0, thresh=threshold) #0, or ‘index’ : Drop rows which contain missing values.\n",
    "    return df"
   ]
  },
  {
   "cell_type": "code",
   "execution_count": 7,
   "id": "3a8db5e8",
   "metadata": {},
   "outputs": [],
   "source": [
    "df = handle_missing_values(df, 0.75, 0.75)"
   ]
  },
  {
   "cell_type": "code",
   "execution_count": 8,
   "id": "3ded746c",
   "metadata": {},
   "outputs": [
    {
     "data": {
      "text/plain": [
       "(52434, 28)"
      ]
     },
     "execution_count": 8,
     "metadata": {},
     "output_type": "execute_result"
    }
   ],
   "source": [
    "df.shape"
   ]
  },
  {
   "cell_type": "code",
   "execution_count": 9,
   "id": "bff4b939",
   "metadata": {},
   "outputs": [],
   "source": [
    "df = df.dropna()"
   ]
  },
  {
   "cell_type": "code",
   "execution_count": 10,
   "id": "99c725b7",
   "metadata": {},
   "outputs": [
    {
     "data": {
      "text/plain": [
       "parcelid                        0\n",
       "bathroomcnt                     0\n",
       "bedroomcnt                      0\n",
       "calculatedbathnbr               0\n",
       "calculatedfinishedsquarefeet    0\n",
       "finishedsquarefeet12            0\n",
       "fips                            0\n",
       "fullbathcnt                     0\n",
       "latitude                        0\n",
       "longitude                       0\n",
       "lotsizesquarefeet               0\n",
       "propertycountylandusecode       0\n",
       "propertylandusetypeid           0\n",
       "rawcensustractandblock          0\n",
       "regionidcity                    0\n",
       "regionidcounty                  0\n",
       "regionidzip                     0\n",
       "roomcnt                         0\n",
       "yearbuilt                       0\n",
       "structuretaxvaluedollarcnt      0\n",
       "taxvaluedollarcnt               0\n",
       "assessmentyear                  0\n",
       "landtaxvaluedollarcnt           0\n",
       "taxamount                       0\n",
       "censustractandblock             0\n",
       "logerror                        0\n",
       "transactiondate                 0\n",
       "propertylandusedesc             0\n",
       "dtype: int64"
      ]
     },
     "execution_count": 10,
     "metadata": {},
     "output_type": "execute_result"
    }
   ],
   "source": [
    "df.isnull().sum()"
   ]
  },
  {
   "cell_type": "code",
   "execution_count": 11,
   "id": "1264f593",
   "metadata": {},
   "outputs": [
    {
     "data": {
      "text/plain": [
       "(50670, 28)"
      ]
     },
     "execution_count": 11,
     "metadata": {},
     "output_type": "execute_result"
    }
   ],
   "source": [
    "df.shape"
   ]
  },
  {
   "cell_type": "code",
   "execution_count": 12,
   "id": "3e49dd95",
   "metadata": {},
   "outputs": [
    {
     "data": {
      "text/plain": [
       "0.03364229316855476"
      ]
     },
     "execution_count": 12,
     "metadata": {},
     "output_type": "execute_result"
    }
   ],
   "source": [
    "(52434-50670)/52434"
   ]
  },
  {
   "cell_type": "markdown",
   "id": "a928e5e2",
   "metadata": {},
   "source": [
    "We feel comfortable dropping nulls because it's only 3.4% of the data."
   ]
  },
  {
   "cell_type": "markdown",
   "id": "bb9d628d",
   "metadata": {},
   "source": [
    "### 2. Rename Columns"
   ]
  },
  {
   "cell_type": "code",
   "execution_count": 13,
   "id": "7bdf602d",
   "metadata": {},
   "outputs": [],
   "source": [
    "df.rename(columns = {'bathroomcnt':'bathrooms', 'bedroomcnt':'bedrooms',\n",
    "                              'calculatedfinishedsquarefeet':'total_sqft', 'finishedsquarefeet12': 'living_sqft', 'fullbathcnt':'full_bath', 'lotsizesquarefeet':'lot_sqft', 'regionidcity':'city', 'regionidzip':'zips', 'structuretaxvaluedollarcnt': 'structure_value', 'taxvaluedollarcnt':'assessed_value', 'landtaxvaluedollarcnt':'land_value'}, inplace = True)"
   ]
  },
  {
   "cell_type": "code",
   "execution_count": 14,
   "id": "6384cfb7",
   "metadata": {},
   "outputs": [
    {
     "data": {
      "text/plain": [
       "Index(['parcelid', 'bathrooms', 'bedrooms', 'calculatedbathnbr', 'total_sqft',\n",
       "       'living_sqft', 'fips', 'full_bath', 'latitude', 'longitude', 'lot_sqft',\n",
       "       'propertycountylandusecode', 'propertylandusetypeid',\n",
       "       'rawcensustractandblock', 'city', 'regionidcounty', 'zips', 'roomcnt',\n",
       "       'yearbuilt', 'structure_value', 'assessed_value', 'assessmentyear',\n",
       "       'land_value', 'taxamount', 'censustractandblock', 'logerror',\n",
       "       'transactiondate', 'propertylandusedesc'],\n",
       "      dtype='object')"
      ]
     },
     "execution_count": 14,
     "metadata": {},
     "output_type": "execute_result"
    }
   ],
   "source": [
    "df.columns"
   ]
  },
  {
   "cell_type": "markdown",
   "id": "ab39ee6c",
   "metadata": {},
   "source": [
    "### 3. Data Mapping, Dummy Variables"
   ]
  },
  {
   "cell_type": "code",
   "execution_count": 15,
   "id": "9bb91db9",
   "metadata": {},
   "outputs": [],
   "source": [
    "df['age'] = 2017 - df['yearbuilt']"
   ]
  },
  {
   "cell_type": "code",
   "execution_count": 16,
   "id": "389e61c5",
   "metadata": {},
   "outputs": [],
   "source": [
    "df['county'] = df.fips.map({6037: 'Los Angeles', 6059: 'Orange', 6111: 'Ventura'})"
   ]
  },
  {
   "cell_type": "markdown",
   "id": "d013db37",
   "metadata": {},
   "source": [
    "### 4. Impute Latitude & Longitude"
   ]
  },
  {
   "cell_type": "code",
   "execution_count": 17,
   "id": "c53a0a12",
   "metadata": {},
   "outputs": [],
   "source": [
    "df.latitude = df.latitude/1000000"
   ]
  },
  {
   "cell_type": "code",
   "execution_count": 18,
   "id": "ab8b180c",
   "metadata": {},
   "outputs": [],
   "source": [
    "df.longitude = df.longitude/1000000"
   ]
  },
  {
   "cell_type": "markdown",
   "id": "ea41e17d",
   "metadata": {},
   "source": [
    "### 5. Drop Unuseful Columns"
   ]
  },
  {
   "cell_type": "code",
   "execution_count": 19,
   "id": "1588a8b2",
   "metadata": {},
   "outputs": [],
   "source": [
    "col = ['parcelid','assessmentyear','yearbuilt','fips','propertycountylandusecode', 'propertylandusetypeid', 'rawcensustractandblock', 'regionidcounty', 'propertylandusedesc']\n",
    "df.drop(columns = col, inplace = True)"
   ]
  },
  {
   "cell_type": "markdown",
   "id": "82c5aa0e",
   "metadata": {},
   "source": [
    "### 6. Drop incorrect zip codes"
   ]
  },
  {
   "cell_type": "code",
   "execution_count": 26,
   "id": "cfb572c9",
   "metadata": {},
   "outputs": [
    {
     "data": {
      "text/plain": [
       "95982"
      ]
     },
     "execution_count": 26,
     "metadata": {},
     "output_type": "execute_result"
    }
   ],
   "source": [
    "df.zips.min()"
   ]
  },
  {
   "cell_type": "markdown",
   "id": "91d93691",
   "metadata": {},
   "source": [
    "### 7. Data Types"
   ]
  },
  {
   "cell_type": "code",
   "execution_count": 20,
   "id": "c091908e",
   "metadata": {},
   "outputs": [
    {
     "data": {
      "text/plain": [
       "bathrooms            float64\n",
       "bedrooms             float64\n",
       "calculatedbathnbr    float64\n",
       "total_sqft           float64\n",
       "living_sqft          float64\n",
       "full_bath            float64\n",
       "latitude             float64\n",
       "longitude            float64\n",
       "lot_sqft             float64\n",
       "city                 float64\n",
       "zips                 float64\n",
       "roomcnt              float64\n",
       "structure_value      float64\n",
       "assessed_value       float64\n",
       "assessmentyear       float64\n",
       "land_value           float64\n",
       "taxamount            float64\n",
       "logerror             float64\n",
       "transactiondate       object\n",
       "age                  float64\n",
       "county                object\n",
       "dtype: object"
      ]
     },
     "execution_count": 20,
     "metadata": {},
     "output_type": "execute_result"
    }
   ],
   "source": [
    "df.dtypes"
   ]
  },
  {
   "cell_type": "code",
   "execution_count": 21,
   "id": "262a1266",
   "metadata": {},
   "outputs": [],
   "source": [
    "df['city'] = df['city'].astype(int)"
   ]
  },
  {
   "cell_type": "code",
   "execution_count": 23,
   "id": "d84eb755",
   "metadata": {},
   "outputs": [],
   "source": [
    "df['zips'] = df['zips'].astype(int)"
   ]
  },
  {
   "cell_type": "code",
   "execution_count": 24,
   "id": "44706769",
   "metadata": {},
   "outputs": [],
   "source": [
    "df['age'] = df['age'].astype(int)"
   ]
  },
  {
   "cell_type": "markdown",
   "id": "6eb5c796",
   "metadata": {},
   "source": [
    "### 8. Outliers"
   ]
  },
  {
   "cell_type": "markdown",
   "id": "9db331d7",
   "metadata": {},
   "source": [
    "#### Distribution of `bathroomcnt`, `bedroomcnt`, `calculatedbathnbr`, `calculatedfinishedsquarefeet`, `fullbathcnt`"
   ]
  },
  {
   "cell_type": "code",
   "execution_count": 36,
   "id": "671ea476",
   "metadata": {},
   "outputs": [
    {
     "data": {
      "image/png": "[encoded data removed]",
      "text/plain": [
       "<Figure size 1152x576 with 5 Axes>"
      ]
     },
     "metadata": {
      "needs_background": "light"
     },
     "output_type": "display_data"
    }
   ],
   "source": [
    "plt.figure(figsize = (16,8))\n",
    "\n",
    "# List of columns\n",
    "cols = ['bathrooms', 'bedrooms', 'total_sqft', 'full_bath', 'roomcnt']\n",
    "\n",
    "for i, col in enumerate(cols):\n",
    "    \n",
    "    # i starts at 0, but plot nos should start at 1\n",
    "    plot_number = i + 1 \n",
    "    \n",
    "    # Create subplot.\n",
    "    plt.subplot(1,5, plot_number)\n",
    "    \n",
    "    # Title with column name.\n",
    "    plt.title(col)\n",
    "    \n",
    "    # Display histogram for column.\n",
    "    sns.boxplot(data = df[col])"
   ]
  },
  {
   "cell_type": "code",
   "execution_count": 34,
   "id": "94087424",
   "metadata": {},
   "outputs": [
    {
     "data": {
      "text/plain": [
       "6.0"
      ]
     },
     "execution_count": 34,
     "metadata": {},
     "output_type": "execute_result"
    }
   ],
   "source": [
    "# bedrooms\n",
    "\n",
    "q1, q3 = df.bedrooms.quantile([.25, 0.75])\n",
    "iqr = q3 - q1\n",
    "k = 2\n",
    "upper_bound= q3 + k * iqr\n",
    "upper_bound"
   ]
  },
  {
   "cell_type": "code",
   "execution_count": 33,
   "id": "b0df0871",
   "metadata": {},
   "outputs": [
    {
     "data": {
      "text/plain": [
       "6.0"
      ]
     },
     "execution_count": 33,
     "metadata": {},
     "output_type": "execute_result"
    }
   ],
   "source": [
    "# bathrooms\n",
    "\n",
    "q1, q3 = df.bathrooms.quantile([.25, 0.75])\n",
    "iqr = q3 - q1\n",
    "k = 3\n",
    "upper_bound= q3 + k * iqr\n",
    "upper_bound"
   ]
  },
  {
   "cell_type": "code",
   "execution_count": 37,
   "id": "650aadcc",
   "metadata": {},
   "outputs": [
    {
     "data": {
      "text/plain": [
       "5340.0"
      ]
     },
     "execution_count": 37,
     "metadata": {},
     "output_type": "execute_result"
    }
   ],
   "source": [
    "# total_sqft\n",
    "\n",
    "q1, q3 = df.total_sqft.quantile([.25, 0.75])\n",
    "iqr = q3 - q1\n",
    "k = 3\n",
    "upper_bound= q3 + k * iqr\n",
    "upper_bound"
   ]
  },
  {
   "cell_type": "code",
   "execution_count": 39,
   "id": "49ab1601",
   "metadata": {},
   "outputs": [
    {
     "data": {
      "text/plain": [
       "40487.5"
      ]
     },
     "execution_count": 39,
     "metadata": {},
     "output_type": "execute_result"
    }
   ],
   "source": [
    "# lot_sqft\n",
    "\n",
    "q1, q3 = df.lot_sqft.quantile([.25, 0.75])\n",
    "iqr = q3 - q1\n",
    "k = 10\n",
    "upper_bound= q3 + k * iqr\n",
    "upper_bound"
   ]
  },
  {
   "cell_type": "markdown",
   "id": "141a5258",
   "metadata": {},
   "source": [
    "#### Distribution of `assessed_value`, `structure_value`, `land_value`"
   ]
  },
  {
   "cell_type": "code",
   "execution_count": 40,
   "id": "b53b72ed",
   "metadata": {},
   "outputs": [
    {
     "data": {
      "image/png": "[encoded data removed]",
      "text/plain": [
       "<Figure size 1152x576 with 3 Axes>"
      ]
     },
     "metadata": {
      "needs_background": "light"
     },
     "output_type": "display_data"
    }
   ],
   "source": [
    "plt.figure(figsize = (16,8))\n",
    "\n",
    "# List of columns\n",
    "cols = ['assessed_value', 'structure_value', 'land_value']\n",
    "\n",
    "for i, col in enumerate(cols):\n",
    "    \n",
    "    # i starts at 0, but plot nos should start at 1\n",
    "    plot_number = i + 1 \n",
    "    \n",
    "    # Create subplot.\n",
    "    plt.subplot(3,1, plot_number)\n",
    "    \n",
    "    # Title with column name.\n",
    "    plt.title(col)\n",
    "    \n",
    "    # Display histogram for column.\n",
    "    sns.histplot(data=df, x=col, kde=True, log_scale=True)"
   ]
  },
  {
   "cell_type": "code",
   "execution_count": 45,
   "id": "9448e31d",
   "metadata": {},
   "outputs": [
    {
     "data": {
      "text/plain": [
       "1071103.6"
      ]
     },
     "execution_count": 45,
     "metadata": {},
     "output_type": "execute_result"
    }
   ],
   "source": [
    "# lot_sqft\n",
    "\n",
    "q1, q3 = df.assessed_value.quantile([.25, 0.75])\n",
    "iqr = q3 - q1\n",
    "k = 1.1\n",
    "upper_bound= q3 + k * iqr\n",
    "upper_bound"
   ]
  },
  {
   "cell_type": "markdown",
   "id": "aacea2b7",
   "metadata": {},
   "source": [
    "### 9. Split Data"
   ]
  },
  {
   "cell_type": "code",
   "execution_count": null,
   "id": "9922d32f",
   "metadata": {},
   "outputs": [],
   "source": [
    "def split(df):\n",
    "    '''\n",
    "    This function drops the customer_id column and then splits a dataframe into \n",
    "    train, validate, and test in order to explore the data and to create and validate models. \n",
    "    It takes in a dataframe and contains an integer for setting a seed for replication. \n",
    "    Test is 20% of the original dataset. The remaining 80% of the dataset is \n",
    "    divided between valiidate and train, with validate being .30*.80= 24% of \n",
    "    the original dataset, and train being .70*.80= 56% of the original dataset. \n",
    "    The function returns, train, validate and test dataframes. \n",
    "    '''\n",
    "    train, test = train_test_split(df, test_size = .2, random_state=123)   \n",
    "    train, validate = train_test_split(train, test_size=.3, random_state=123)\n",
    "    \n",
    "    return train, validate, test"
   ]
  }
 ],
 "metadata": {
  "kernelspec": {
   "display_name": "Python 3 (ipykernel)",
   "language": "python",
   "name": "python3"
  },
  "language_info": {
   "codemirror_mode": {
    "name": "ipython",
    "version": 3
   },
   "file_extension": ".py",
   "mimetype": "text/x-python",
   "name": "python",
   "nbconvert_exporter": "python",
   "pygments_lexer": "ipython3",
   "version": "3.9.12"
  }
 },
 "nbformat": 4,
 "nbformat_minor": 5
}
